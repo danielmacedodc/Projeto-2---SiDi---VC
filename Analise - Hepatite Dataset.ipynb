{
 "cells": [
  {
   "cell_type": "markdown",
   "id": "ee141269",
   "metadata": {},
   "source": [
    "# Hepatitis C Virus (HCV) for Egyptian patients Data Set\n",
    "\n",
    "**Abstract**: Egyptian patients who underwent treatment dosages for HCV about 18 months. Discretization should be applied based on expert recommendations; there is an attached file shows how. ([UCI](http://archive.ics.uci.edu/ml/datasets/Hepatitis+C+Virus+%28HCV%29+for+Egyptian+patients#))\n",
    "\n",
    "### Attribute Information:\n",
    "\n",
    "1. **Age** Age \n",
    "2. **Gender** Gender [Male,Female]\n",
    "3. **BMI** Body Mass Index [Absent, Present]\n",
    "4. **Fever** Fever [Absent, Present]\n",
    "5. **Nausea/Vomting** Nausea/Vomting [Absent, Present]\n",
    "6. **Headache** Headache [Absent, Present]\n",
    "7. **Diarrhea** Diarrhea [Absent, Present]\n",
    "8. **Fatigue & generalized bone ache** Fatigue & generalized bone ache [Absent, Present]\n",
    "9. **Jaundice** Jaundice [Absent, Present]\n",
    "10. **Epigastric pain** Epigastric pain [Absent, Present]\n",
    "11. **WBC** White blood cell\n",
    "12. **RBC** red blood cells\n",
    "13. **HGB** Hemoglobin\n",
    "14. **Plat** Platelets\n",
    "15. **AST 1** aspartate transaminase ratio\n",
    "16. **ALT 1** alanine transaminase ratio 1 week\n",
    "17. **ALT 4** alanine transaminase ratio 12 weeks\n",
    "18. **ALT 12** alanine transaminase ratio 4 weeks\n",
    "19. **ALT 24** alanine transaminase ratio 24 weeks\n",
    "20. **ALT 36** alanine transaminase ratio 36 weeks\n",
    "21. **ALT 48** alanine transaminase ratio 48 weeks\n",
    "22. **ALT after 24 w** alanine transaminase ratio 24 weeks\n",
    "23. **RNA Base** RNA Base\n",
    "24. **RNA 4** RNA 4\n",
    "25. **RNA 12** RNA 12\n",
    "26. **RNA EOT** RNA end-of-treatment\n",
    "27. **RNA EF** RNA Elongation Factor\n",
    "28. **Baseline histological Grading** Baseline histological Grading\n",
    "29. **Baselinehistological staging** Baselinehistological staging"
   ]
  },
  {
   "cell_type": "markdown",
   "id": "422758df",
   "metadata": {},
   "source": [
    "### Importando bibliotecas\n"
   ]
  },
  {
   "cell_type": "code",
   "execution_count": 1,
   "id": "72b4bd0a",
   "metadata": {},
   "outputs": [],
   "source": [
    "import pandas as pd\n",
    "import numpy as np\n",
    "import seaborn as sns\n",
    "import matplotlib as mpl\n",
    "import matplotlib.pyplot as plt\n",
    "from pandas_profiling import ProfileReport"
   ]
  },
  {
   "cell_type": "markdown",
   "id": "546a25d8",
   "metadata": {},
   "source": [
    "### Carregando Dados"
   ]
  },
  {
   "cell_type": "code",
   "execution_count": 2,
   "id": "e93c3e88",
   "metadata": {},
   "outputs": [],
   "source": [
    "df_hepatite = pd.read_csv('HCV-Egy-Data.csv')"
   ]
  },
  {
   "cell_type": "markdown",
   "id": "e6ffbaba",
   "metadata": {},
   "source": [
    "### Visualizando os Dados"
   ]
  },
  {
   "cell_type": "code",
   "execution_count": 3,
   "id": "ec63b299",
   "metadata": {},
   "outputs": [
    {
     "data": {
      "text/html": [
       "<div>\n",
       "<style scoped>\n",
       "    .dataframe tbody tr th:only-of-type {\n",
       "        vertical-align: middle;\n",
       "    }\n",
       "\n",
       "    .dataframe tbody tr th {\n",
       "        vertical-align: top;\n",
       "    }\n",
       "\n",
       "    .dataframe thead th {\n",
       "        text-align: right;\n",
       "    }\n",
       "</style>\n",
       "<table border=\"1\" class=\"dataframe\">\n",
       "  <thead>\n",
       "    <tr style=\"text-align: right;\">\n",
       "      <th></th>\n",
       "      <th>Age</th>\n",
       "      <th>Gender</th>\n",
       "      <th>BMI</th>\n",
       "      <th>Fever</th>\n",
       "      <th>Nausea/Vomting</th>\n",
       "      <th>Headache</th>\n",
       "      <th>Diarrhea</th>\n",
       "      <th>Fatigue &amp; generalized bone ache</th>\n",
       "      <th>Jaundice</th>\n",
       "      <th>Epigastric pain</th>\n",
       "      <th>...</th>\n",
       "      <th>ALT 36</th>\n",
       "      <th>ALT 48</th>\n",
       "      <th>ALT after 24 w</th>\n",
       "      <th>RNA Base</th>\n",
       "      <th>RNA 4</th>\n",
       "      <th>RNA 12</th>\n",
       "      <th>RNA EOT</th>\n",
       "      <th>RNA EF</th>\n",
       "      <th>Baseline histological Grading</th>\n",
       "      <th>Baselinehistological staging</th>\n",
       "    </tr>\n",
       "  </thead>\n",
       "  <tbody>\n",
       "    <tr>\n",
       "      <th>0</th>\n",
       "      <td>56</td>\n",
       "      <td>1</td>\n",
       "      <td>35</td>\n",
       "      <td>2</td>\n",
       "      <td>1</td>\n",
       "      <td>1</td>\n",
       "      <td>1</td>\n",
       "      <td>2</td>\n",
       "      <td>2</td>\n",
       "      <td>2</td>\n",
       "      <td>...</td>\n",
       "      <td>5</td>\n",
       "      <td>5</td>\n",
       "      <td>5</td>\n",
       "      <td>655330</td>\n",
       "      <td>634536</td>\n",
       "      <td>288194</td>\n",
       "      <td>5</td>\n",
       "      <td>5</td>\n",
       "      <td>13</td>\n",
       "      <td>2</td>\n",
       "    </tr>\n",
       "    <tr>\n",
       "      <th>1</th>\n",
       "      <td>46</td>\n",
       "      <td>1</td>\n",
       "      <td>29</td>\n",
       "      <td>1</td>\n",
       "      <td>2</td>\n",
       "      <td>2</td>\n",
       "      <td>1</td>\n",
       "      <td>2</td>\n",
       "      <td>2</td>\n",
       "      <td>1</td>\n",
       "      <td>...</td>\n",
       "      <td>57</td>\n",
       "      <td>123</td>\n",
       "      <td>44</td>\n",
       "      <td>40620</td>\n",
       "      <td>538635</td>\n",
       "      <td>637056</td>\n",
       "      <td>336804</td>\n",
       "      <td>31085</td>\n",
       "      <td>4</td>\n",
       "      <td>2</td>\n",
       "    </tr>\n",
       "    <tr>\n",
       "      <th>2</th>\n",
       "      <td>57</td>\n",
       "      <td>1</td>\n",
       "      <td>33</td>\n",
       "      <td>2</td>\n",
       "      <td>2</td>\n",
       "      <td>2</td>\n",
       "      <td>2</td>\n",
       "      <td>1</td>\n",
       "      <td>1</td>\n",
       "      <td>1</td>\n",
       "      <td>...</td>\n",
       "      <td>5</td>\n",
       "      <td>5</td>\n",
       "      <td>5</td>\n",
       "      <td>571148</td>\n",
       "      <td>661346</td>\n",
       "      <td>5</td>\n",
       "      <td>735945</td>\n",
       "      <td>558829</td>\n",
       "      <td>4</td>\n",
       "      <td>4</td>\n",
       "    </tr>\n",
       "    <tr>\n",
       "      <th>3</th>\n",
       "      <td>49</td>\n",
       "      <td>2</td>\n",
       "      <td>33</td>\n",
       "      <td>1</td>\n",
       "      <td>2</td>\n",
       "      <td>1</td>\n",
       "      <td>2</td>\n",
       "      <td>1</td>\n",
       "      <td>2</td>\n",
       "      <td>1</td>\n",
       "      <td>...</td>\n",
       "      <td>48</td>\n",
       "      <td>77</td>\n",
       "      <td>33</td>\n",
       "      <td>1041941</td>\n",
       "      <td>449939</td>\n",
       "      <td>585688</td>\n",
       "      <td>744463</td>\n",
       "      <td>582301</td>\n",
       "      <td>10</td>\n",
       "      <td>3</td>\n",
       "    </tr>\n",
       "    <tr>\n",
       "      <th>4</th>\n",
       "      <td>59</td>\n",
       "      <td>1</td>\n",
       "      <td>32</td>\n",
       "      <td>1</td>\n",
       "      <td>1</td>\n",
       "      <td>2</td>\n",
       "      <td>1</td>\n",
       "      <td>2</td>\n",
       "      <td>2</td>\n",
       "      <td>2</td>\n",
       "      <td>...</td>\n",
       "      <td>94</td>\n",
       "      <td>90</td>\n",
       "      <td>30</td>\n",
       "      <td>660410</td>\n",
       "      <td>738756</td>\n",
       "      <td>3731527</td>\n",
       "      <td>338946</td>\n",
       "      <td>242861</td>\n",
       "      <td>11</td>\n",
       "      <td>1</td>\n",
       "    </tr>\n",
       "  </tbody>\n",
       "</table>\n",
       "<p>5 rows × 29 columns</p>\n",
       "</div>"
      ],
      "text/plain": [
       "   Age   Gender  BMI  Fever  Nausea/Vomting  Headache   Diarrhea   \\\n",
       "0    56       1   35      2               1          1          1   \n",
       "1    46       1   29      1               2          2          1   \n",
       "2    57       1   33      2               2          2          2   \n",
       "3    49       2   33      1               2          1          2   \n",
       "4    59       1   32      1               1          2          1   \n",
       "\n",
       "   Fatigue & generalized bone ache   Jaundice   Epigastric pain   ...  ALT 36  \\\n",
       "0                                 2          2                 2  ...       5   \n",
       "1                                 2          2                 1  ...      57   \n",
       "2                                 1          1                 1  ...       5   \n",
       "3                                 1          2                 1  ...      48   \n",
       "4                                 2          2                 2  ...      94   \n",
       "\n",
       "   ALT 48  ALT after 24 w  RNA Base   RNA 4   RNA 12  RNA EOT  RNA EF  \\\n",
       "0       5               5    655330  634536   288194        5       5   \n",
       "1     123              44     40620  538635   637056   336804   31085   \n",
       "2       5               5    571148  661346        5   735945  558829   \n",
       "3      77              33   1041941  449939   585688   744463  582301   \n",
       "4      90              30    660410  738756  3731527   338946  242861   \n",
       "\n",
       "   Baseline histological Grading  Baselinehistological staging  \n",
       "0                             13                             2  \n",
       "1                              4                             2  \n",
       "2                              4                             4  \n",
       "3                             10                             3  \n",
       "4                             11                             1  \n",
       "\n",
       "[5 rows x 29 columns]"
      ]
     },
     "execution_count": 3,
     "metadata": {},
     "output_type": "execute_result"
    }
   ],
   "source": [
    "df_hepatite.head()"
   ]
  },
  {
   "cell_type": "code",
   "execution_count": 16,
   "id": "15c27967",
   "metadata": {},
   "outputs": [
    {
     "data": {
      "text/html": [
       "<div>\n",
       "<style scoped>\n",
       "    .dataframe tbody tr th:only-of-type {\n",
       "        vertical-align: middle;\n",
       "    }\n",
       "\n",
       "    .dataframe tbody tr th {\n",
       "        vertical-align: top;\n",
       "    }\n",
       "\n",
       "    .dataframe thead th {\n",
       "        text-align: right;\n",
       "    }\n",
       "</style>\n",
       "<table border=\"1\" class=\"dataframe\">\n",
       "  <thead>\n",
       "    <tr style=\"text-align: right;\">\n",
       "      <th></th>\n",
       "      <th>WBC</th>\n",
       "      <th>RBC</th>\n",
       "      <th>HGB</th>\n",
       "      <th>Plat</th>\n",
       "      <th>AST 1</th>\n",
       "      <th>ALT 1</th>\n",
       "      <th>ALT4</th>\n",
       "      <th>ALT 12</th>\n",
       "      <th>ALT 24</th>\n",
       "    </tr>\n",
       "  </thead>\n",
       "  <tbody>\n",
       "    <tr>\n",
       "      <th>0</th>\n",
       "      <td>7425</td>\n",
       "      <td>4248807.0</td>\n",
       "      <td>14</td>\n",
       "      <td>112132.0</td>\n",
       "      <td>99</td>\n",
       "      <td>84</td>\n",
       "      <td>52.0</td>\n",
       "      <td>109</td>\n",
       "      <td>81</td>\n",
       "    </tr>\n",
       "    <tr>\n",
       "      <th>1</th>\n",
       "      <td>12101</td>\n",
       "      <td>4429425.0</td>\n",
       "      <td>10</td>\n",
       "      <td>129367.0</td>\n",
       "      <td>91</td>\n",
       "      <td>123</td>\n",
       "      <td>95.0</td>\n",
       "      <td>75</td>\n",
       "      <td>113</td>\n",
       "    </tr>\n",
       "    <tr>\n",
       "      <th>2</th>\n",
       "      <td>4178</td>\n",
       "      <td>4621191.0</td>\n",
       "      <td>12</td>\n",
       "      <td>151522.0</td>\n",
       "      <td>113</td>\n",
       "      <td>49</td>\n",
       "      <td>95.0</td>\n",
       "      <td>107</td>\n",
       "      <td>116</td>\n",
       "    </tr>\n",
       "    <tr>\n",
       "      <th>3</th>\n",
       "      <td>6490</td>\n",
       "      <td>4794631.0</td>\n",
       "      <td>10</td>\n",
       "      <td>146457.0</td>\n",
       "      <td>43</td>\n",
       "      <td>64</td>\n",
       "      <td>109.0</td>\n",
       "      <td>80</td>\n",
       "      <td>88</td>\n",
       "    </tr>\n",
       "    <tr>\n",
       "      <th>4</th>\n",
       "      <td>3661</td>\n",
       "      <td>4606375.0</td>\n",
       "      <td>11</td>\n",
       "      <td>187684.0</td>\n",
       "      <td>99</td>\n",
       "      <td>104</td>\n",
       "      <td>67.0</td>\n",
       "      <td>48</td>\n",
       "      <td>120</td>\n",
       "    </tr>\n",
       "    <tr>\n",
       "      <th>5</th>\n",
       "      <td>11785</td>\n",
       "      <td>3882456.0</td>\n",
       "      <td>15</td>\n",
       "      <td>131228.0</td>\n",
       "      <td>66</td>\n",
       "      <td>104</td>\n",
       "      <td>121.0</td>\n",
       "      <td>96</td>\n",
       "      <td>65</td>\n",
       "    </tr>\n",
       "    <tr>\n",
       "      <th>6</th>\n",
       "      <td>11620</td>\n",
       "      <td>4747333.0</td>\n",
       "      <td>12</td>\n",
       "      <td>177261.0</td>\n",
       "      <td>78</td>\n",
       "      <td>57</td>\n",
       "      <td>113.0</td>\n",
       "      <td>118</td>\n",
       "      <td>107</td>\n",
       "    </tr>\n",
       "    <tr>\n",
       "      <th>7</th>\n",
       "      <td>7335</td>\n",
       "      <td>4405941.0</td>\n",
       "      <td>11</td>\n",
       "      <td>216176.0</td>\n",
       "      <td>119</td>\n",
       "      <td>112</td>\n",
       "      <td>80.0</td>\n",
       "      <td>127</td>\n",
       "      <td>45</td>\n",
       "    </tr>\n",
       "    <tr>\n",
       "      <th>8</th>\n",
       "      <td>10480</td>\n",
       "      <td>4608464.0</td>\n",
       "      <td>12</td>\n",
       "      <td>148889.0</td>\n",
       "      <td>93</td>\n",
       "      <td>83</td>\n",
       "      <td>55.0</td>\n",
       "      <td>102</td>\n",
       "      <td>97</td>\n",
       "    </tr>\n",
       "    <tr>\n",
       "      <th>9</th>\n",
       "      <td>6681</td>\n",
       "      <td>4455329.0</td>\n",
       "      <td>12</td>\n",
       "      <td>98200.0</td>\n",
       "      <td>55</td>\n",
       "      <td>68</td>\n",
       "      <td>72.0</td>\n",
       "      <td>127</td>\n",
       "      <td>81</td>\n",
       "    </tr>\n",
       "    <tr>\n",
       "      <th>10</th>\n",
       "      <td>4437</td>\n",
       "      <td>4265042.0</td>\n",
       "      <td>12</td>\n",
       "      <td>166027.0</td>\n",
       "      <td>103</td>\n",
       "      <td>124</td>\n",
       "      <td>111.0</td>\n",
       "      <td>74</td>\n",
       "      <td>53</td>\n",
       "    </tr>\n",
       "    <tr>\n",
       "      <th>11</th>\n",
       "      <td>6052</td>\n",
       "      <td>4130219.0</td>\n",
       "      <td>13</td>\n",
       "      <td>144266.0</td>\n",
       "      <td>75</td>\n",
       "      <td>49</td>\n",
       "      <td>93.0</td>\n",
       "      <td>52</td>\n",
       "      <td>46</td>\n",
       "    </tr>\n",
       "    <tr>\n",
       "      <th>12</th>\n",
       "      <td>9279</td>\n",
       "      <td>4116937.0</td>\n",
       "      <td>13</td>\n",
       "      <td>203003.0</td>\n",
       "      <td>97</td>\n",
       "      <td>101</td>\n",
       "      <td>66.0</td>\n",
       "      <td>53</td>\n",
       "      <td>95</td>\n",
       "    </tr>\n",
       "    <tr>\n",
       "      <th>13</th>\n",
       "      <td>5638</td>\n",
       "      <td>4321603.0</td>\n",
       "      <td>14</td>\n",
       "      <td>141110.0</td>\n",
       "      <td>120</td>\n",
       "      <td>61</td>\n",
       "      <td>64.0</td>\n",
       "      <td>51</td>\n",
       "      <td>78</td>\n",
       "    </tr>\n",
       "    <tr>\n",
       "      <th>14</th>\n",
       "      <td>11507</td>\n",
       "      <td>4165603.0</td>\n",
       "      <td>14</td>\n",
       "      <td>222874.0</td>\n",
       "      <td>127</td>\n",
       "      <td>122</td>\n",
       "      <td>106.0</td>\n",
       "      <td>105</td>\n",
       "      <td>88</td>\n",
       "    </tr>\n",
       "  </tbody>\n",
       "</table>\n",
       "</div>"
      ],
      "text/plain": [
       "      WBC        RBC  HGB      Plat  AST 1  ALT 1   ALT4  ALT 12  ALT 24\n",
       "0    7425  4248807.0   14  112132.0     99     84   52.0     109      81\n",
       "1   12101  4429425.0   10  129367.0     91    123   95.0      75     113\n",
       "2    4178  4621191.0   12  151522.0    113     49   95.0     107     116\n",
       "3    6490  4794631.0   10  146457.0     43     64  109.0      80      88\n",
       "4    3661  4606375.0   11  187684.0     99    104   67.0      48     120\n",
       "5   11785  3882456.0   15  131228.0     66    104  121.0      96      65\n",
       "6   11620  4747333.0   12  177261.0     78     57  113.0     118     107\n",
       "7    7335  4405941.0   11  216176.0    119    112   80.0     127      45\n",
       "8   10480  4608464.0   12  148889.0     93     83   55.0     102      97\n",
       "9    6681  4455329.0   12   98200.0     55     68   72.0     127      81\n",
       "10   4437  4265042.0   12  166027.0    103    124  111.0      74      53\n",
       "11   6052  4130219.0   13  144266.0     75     49   93.0      52      46\n",
       "12   9279  4116937.0   13  203003.0     97    101   66.0      53      95\n",
       "13   5638  4321603.0   14  141110.0    120     61   64.0      51      78\n",
       "14  11507  4165603.0   14  222874.0    127    122  106.0     105      88"
      ]
     },
     "execution_count": 16,
     "metadata": {},
     "output_type": "execute_result"
    }
   ],
   "source": [
    "df_hepatite[['WBC', 'RBC', 'HGB', 'Plat', 'AST 1', 'ALT 1',\n",
    "       'ALT4', 'ALT 12', 'ALT 24']].head(15)"
   ]
  },
  {
   "cell_type": "code",
   "execution_count": 17,
   "id": "86060b0c",
   "metadata": {
    "scrolled": false
   },
   "outputs": [
    {
     "name": "stdout",
     "output_type": "stream",
     "text": [
      "<class 'pandas.core.frame.DataFrame'>\n",
      "RangeIndex: 1385 entries, 0 to 1384\n",
      "Data columns (total 29 columns):\n",
      " #   Column                            Non-Null Count  Dtype  \n",
      "---  ------                            --------------  -----  \n",
      " 0   Age                               1385 non-null   int64  \n",
      " 1   Gender                            1385 non-null   int64  \n",
      " 2   BMI                               1385 non-null   int64  \n",
      " 3   Fever                             1385 non-null   int64  \n",
      " 4   Nausea/Vomting                    1385 non-null   int64  \n",
      " 5   Headache                          1385 non-null   int64  \n",
      " 6   Diarrhea                          1385 non-null   int64  \n",
      " 7   Fatigue & generalized bone ache   1385 non-null   int64  \n",
      " 8   Jaundice                          1385 non-null   int64  \n",
      " 9   Epigastric pain                   1385 non-null   int64  \n",
      " 10  WBC                               1385 non-null   int64  \n",
      " 11  RBC                               1385 non-null   float64\n",
      " 12  HGB                               1385 non-null   int64  \n",
      " 13  Plat                              1385 non-null   float64\n",
      " 14  AST 1                             1385 non-null   int64  \n",
      " 15  ALT 1                             1385 non-null   int64  \n",
      " 16  ALT4                              1385 non-null   float64\n",
      " 17  ALT 12                            1385 non-null   int64  \n",
      " 18  ALT 24                            1385 non-null   int64  \n",
      " 19  ALT 36                            1385 non-null   int64  \n",
      " 20  ALT 48                            1385 non-null   int64  \n",
      " 21  ALT after 24 w                    1385 non-null   int64  \n",
      " 22  RNA Base                          1385 non-null   int64  \n",
      " 23  RNA 4                             1385 non-null   int64  \n",
      " 24  RNA 12                            1385 non-null   int64  \n",
      " 25  RNA EOT                           1385 non-null   int64  \n",
      " 26  RNA EF                            1385 non-null   int64  \n",
      " 27  Baseline histological Grading     1385 non-null   int64  \n",
      " 28  Baselinehistological staging      1385 non-null   int64  \n",
      "dtypes: float64(3), int64(26)\n",
      "memory usage: 313.9 KB\n"
     ]
    }
   ],
   "source": [
    "df_hepatite.info()"
   ]
  },
  {
   "cell_type": "code",
   "execution_count": 18,
   "id": "81b0fdd4",
   "metadata": {},
   "outputs": [
    {
     "data": {
      "text/html": [
       "<div>\n",
       "<style scoped>\n",
       "    .dataframe tbody tr th:only-of-type {\n",
       "        vertical-align: middle;\n",
       "    }\n",
       "\n",
       "    .dataframe tbody tr th {\n",
       "        vertical-align: top;\n",
       "    }\n",
       "\n",
       "    .dataframe thead th {\n",
       "        text-align: right;\n",
       "    }\n",
       "</style>\n",
       "<table border=\"1\" class=\"dataframe\">\n",
       "  <thead>\n",
       "    <tr style=\"text-align: right;\">\n",
       "      <th></th>\n",
       "      <th>Age</th>\n",
       "      <th>Gender</th>\n",
       "      <th>BMI</th>\n",
       "      <th>Fever</th>\n",
       "      <th>Nausea/Vomting</th>\n",
       "      <th>Headache</th>\n",
       "      <th>Diarrhea</th>\n",
       "      <th>Fatigue &amp; generalized bone ache</th>\n",
       "      <th>Jaundice</th>\n",
       "      <th>Epigastric pain</th>\n",
       "      <th>...</th>\n",
       "      <th>ALT 36</th>\n",
       "      <th>ALT 48</th>\n",
       "      <th>ALT after 24 w</th>\n",
       "      <th>RNA Base</th>\n",
       "      <th>RNA 4</th>\n",
       "      <th>RNA 12</th>\n",
       "      <th>RNA EOT</th>\n",
       "      <th>RNA EF</th>\n",
       "      <th>Baseline histological Grading</th>\n",
       "      <th>Baselinehistological staging</th>\n",
       "    </tr>\n",
       "  </thead>\n",
       "  <tbody>\n",
       "    <tr>\n",
       "      <th>count</th>\n",
       "      <td>1385.000000</td>\n",
       "      <td>1385.000000</td>\n",
       "      <td>1385.000000</td>\n",
       "      <td>1385.000000</td>\n",
       "      <td>1385.000000</td>\n",
       "      <td>1385.000000</td>\n",
       "      <td>1385.000000</td>\n",
       "      <td>1385.000000</td>\n",
       "      <td>1385.000000</td>\n",
       "      <td>1385.000000</td>\n",
       "      <td>...</td>\n",
       "      <td>1385.000000</td>\n",
       "      <td>1385.000000</td>\n",
       "      <td>1385.000000</td>\n",
       "      <td>1.385000e+03</td>\n",
       "      <td>1.385000e+03</td>\n",
       "      <td>1.385000e+03</td>\n",
       "      <td>1385.000000</td>\n",
       "      <td>1385.000000</td>\n",
       "      <td>1385.000000</td>\n",
       "      <td>1385.000000</td>\n",
       "    </tr>\n",
       "    <tr>\n",
       "      <th>mean</th>\n",
       "      <td>46.319134</td>\n",
       "      <td>1.489531</td>\n",
       "      <td>28.608664</td>\n",
       "      <td>1.515523</td>\n",
       "      <td>1.502527</td>\n",
       "      <td>1.496029</td>\n",
       "      <td>1.502527</td>\n",
       "      <td>1.498917</td>\n",
       "      <td>1.501083</td>\n",
       "      <td>1.503971</td>\n",
       "      <td>...</td>\n",
       "      <td>83.117690</td>\n",
       "      <td>83.629603</td>\n",
       "      <td>33.438267</td>\n",
       "      <td>5.909512e+05</td>\n",
       "      <td>6.008956e+05</td>\n",
       "      <td>2.887536e+05</td>\n",
       "      <td>287660.336462</td>\n",
       "      <td>291378.290975</td>\n",
       "      <td>9.761733</td>\n",
       "      <td>2.536462</td>\n",
       "    </tr>\n",
       "    <tr>\n",
       "      <th>std</th>\n",
       "      <td>8.781506</td>\n",
       "      <td>0.500071</td>\n",
       "      <td>4.076215</td>\n",
       "      <td>0.499939</td>\n",
       "      <td>0.500174</td>\n",
       "      <td>0.500165</td>\n",
       "      <td>0.500174</td>\n",
       "      <td>0.500179</td>\n",
       "      <td>0.500179</td>\n",
       "      <td>0.500165</td>\n",
       "      <td>...</td>\n",
       "      <td>26.399031</td>\n",
       "      <td>26.223955</td>\n",
       "      <td>7.073569</td>\n",
       "      <td>3.539354e+05</td>\n",
       "      <td>3.623151e+05</td>\n",
       "      <td>2.853507e+05</td>\n",
       "      <td>264559.525070</td>\n",
       "      <td>267700.691713</td>\n",
       "      <td>4.023896</td>\n",
       "      <td>1.121392</td>\n",
       "    </tr>\n",
       "    <tr>\n",
       "      <th>min</th>\n",
       "      <td>32.000000</td>\n",
       "      <td>1.000000</td>\n",
       "      <td>22.000000</td>\n",
       "      <td>1.000000</td>\n",
       "      <td>1.000000</td>\n",
       "      <td>1.000000</td>\n",
       "      <td>1.000000</td>\n",
       "      <td>1.000000</td>\n",
       "      <td>1.000000</td>\n",
       "      <td>1.000000</td>\n",
       "      <td>...</td>\n",
       "      <td>5.000000</td>\n",
       "      <td>5.000000</td>\n",
       "      <td>5.000000</td>\n",
       "      <td>1.100000e+01</td>\n",
       "      <td>5.000000e+00</td>\n",
       "      <td>5.000000e+00</td>\n",
       "      <td>5.000000</td>\n",
       "      <td>5.000000</td>\n",
       "      <td>3.000000</td>\n",
       "      <td>1.000000</td>\n",
       "    </tr>\n",
       "    <tr>\n",
       "      <th>25%</th>\n",
       "      <td>39.000000</td>\n",
       "      <td>1.000000</td>\n",
       "      <td>25.000000</td>\n",
       "      <td>1.000000</td>\n",
       "      <td>1.000000</td>\n",
       "      <td>1.000000</td>\n",
       "      <td>1.000000</td>\n",
       "      <td>1.000000</td>\n",
       "      <td>1.000000</td>\n",
       "      <td>1.000000</td>\n",
       "      <td>...</td>\n",
       "      <td>61.000000</td>\n",
       "      <td>61.000000</td>\n",
       "      <td>28.000000</td>\n",
       "      <td>2.692530e+05</td>\n",
       "      <td>2.708930e+05</td>\n",
       "      <td>5.000000e+00</td>\n",
       "      <td>5.000000</td>\n",
       "      <td>5.000000</td>\n",
       "      <td>6.000000</td>\n",
       "      <td>2.000000</td>\n",
       "    </tr>\n",
       "    <tr>\n",
       "      <th>50%</th>\n",
       "      <td>46.000000</td>\n",
       "      <td>1.000000</td>\n",
       "      <td>29.000000</td>\n",
       "      <td>2.000000</td>\n",
       "      <td>2.000000</td>\n",
       "      <td>1.000000</td>\n",
       "      <td>2.000000</td>\n",
       "      <td>1.000000</td>\n",
       "      <td>2.000000</td>\n",
       "      <td>2.000000</td>\n",
       "      <td>...</td>\n",
       "      <td>84.000000</td>\n",
       "      <td>83.000000</td>\n",
       "      <td>34.000000</td>\n",
       "      <td>5.931030e+05</td>\n",
       "      <td>5.978690e+05</td>\n",
       "      <td>2.343590e+05</td>\n",
       "      <td>251376.000000</td>\n",
       "      <td>244049.000000</td>\n",
       "      <td>10.000000</td>\n",
       "      <td>3.000000</td>\n",
       "    </tr>\n",
       "    <tr>\n",
       "      <th>75%</th>\n",
       "      <td>54.000000</td>\n",
       "      <td>2.000000</td>\n",
       "      <td>32.000000</td>\n",
       "      <td>2.000000</td>\n",
       "      <td>2.000000</td>\n",
       "      <td>2.000000</td>\n",
       "      <td>2.000000</td>\n",
       "      <td>2.000000</td>\n",
       "      <td>2.000000</td>\n",
       "      <td>2.000000</td>\n",
       "      <td>...</td>\n",
       "      <td>106.000000</td>\n",
       "      <td>106.000000</td>\n",
       "      <td>40.000000</td>\n",
       "      <td>8.867910e+05</td>\n",
       "      <td>9.090930e+05</td>\n",
       "      <td>5.248190e+05</td>\n",
       "      <td>517806.000000</td>\n",
       "      <td>527864.000000</td>\n",
       "      <td>13.000000</td>\n",
       "      <td>4.000000</td>\n",
       "    </tr>\n",
       "    <tr>\n",
       "      <th>max</th>\n",
       "      <td>61.000000</td>\n",
       "      <td>2.000000</td>\n",
       "      <td>35.000000</td>\n",
       "      <td>2.000000</td>\n",
       "      <td>2.000000</td>\n",
       "      <td>2.000000</td>\n",
       "      <td>2.000000</td>\n",
       "      <td>2.000000</td>\n",
       "      <td>2.000000</td>\n",
       "      <td>2.000000</td>\n",
       "      <td>...</td>\n",
       "      <td>128.000000</td>\n",
       "      <td>128.000000</td>\n",
       "      <td>45.000000</td>\n",
       "      <td>1.201086e+06</td>\n",
       "      <td>1.201715e+06</td>\n",
       "      <td>3.731527e+06</td>\n",
       "      <td>808450.000000</td>\n",
       "      <td>810333.000000</td>\n",
       "      <td>16.000000</td>\n",
       "      <td>4.000000</td>\n",
       "    </tr>\n",
       "  </tbody>\n",
       "</table>\n",
       "<p>8 rows × 29 columns</p>\n",
       "</div>"
      ],
      "text/plain": [
       "              Age        Gender          BMI        Fever  Nausea/Vomting  \\\n",
       "count  1385.000000  1385.000000  1385.000000  1385.000000     1385.000000   \n",
       "mean     46.319134     1.489531    28.608664     1.515523        1.502527   \n",
       "std       8.781506     0.500071     4.076215     0.499939        0.500174   \n",
       "min      32.000000     1.000000    22.000000     1.000000        1.000000   \n",
       "25%      39.000000     1.000000    25.000000     1.000000        1.000000   \n",
       "50%      46.000000     1.000000    29.000000     2.000000        2.000000   \n",
       "75%      54.000000     2.000000    32.000000     2.000000        2.000000   \n",
       "max      61.000000     2.000000    35.000000     2.000000        2.000000   \n",
       "\n",
       "         Headache     Diarrhea   Fatigue & generalized bone ache   \\\n",
       "count  1385.000000  1385.000000                       1385.000000   \n",
       "mean      1.496029     1.502527                          1.498917   \n",
       "std       0.500165     0.500174                          0.500179   \n",
       "min       1.000000     1.000000                          1.000000   \n",
       "25%       1.000000     1.000000                          1.000000   \n",
       "50%       1.000000     2.000000                          1.000000   \n",
       "75%       2.000000     2.000000                          2.000000   \n",
       "max       2.000000     2.000000                          2.000000   \n",
       "\n",
       "         Jaundice   Epigastric pain   ...       ALT 36       ALT 48  \\\n",
       "count  1385.000000       1385.000000  ...  1385.000000  1385.000000   \n",
       "mean      1.501083          1.503971  ...    83.117690    83.629603   \n",
       "std       0.500179          0.500165  ...    26.399031    26.223955   \n",
       "min       1.000000          1.000000  ...     5.000000     5.000000   \n",
       "25%       1.000000          1.000000  ...    61.000000    61.000000   \n",
       "50%       2.000000          2.000000  ...    84.000000    83.000000   \n",
       "75%       2.000000          2.000000  ...   106.000000   106.000000   \n",
       "max       2.000000          2.000000  ...   128.000000   128.000000   \n",
       "\n",
       "       ALT after 24 w      RNA Base         RNA 4        RNA 12  \\\n",
       "count     1385.000000  1.385000e+03  1.385000e+03  1.385000e+03   \n",
       "mean        33.438267  5.909512e+05  6.008956e+05  2.887536e+05   \n",
       "std          7.073569  3.539354e+05  3.623151e+05  2.853507e+05   \n",
       "min          5.000000  1.100000e+01  5.000000e+00  5.000000e+00   \n",
       "25%         28.000000  2.692530e+05  2.708930e+05  5.000000e+00   \n",
       "50%         34.000000  5.931030e+05  5.978690e+05  2.343590e+05   \n",
       "75%         40.000000  8.867910e+05  9.090930e+05  5.248190e+05   \n",
       "max         45.000000  1.201086e+06  1.201715e+06  3.731527e+06   \n",
       "\n",
       "             RNA EOT         RNA EF  Baseline histological Grading  \\\n",
       "count    1385.000000    1385.000000                    1385.000000   \n",
       "mean   287660.336462  291378.290975                       9.761733   \n",
       "std    264559.525070  267700.691713                       4.023896   \n",
       "min         5.000000       5.000000                       3.000000   \n",
       "25%         5.000000       5.000000                       6.000000   \n",
       "50%    251376.000000  244049.000000                      10.000000   \n",
       "75%    517806.000000  527864.000000                      13.000000   \n",
       "max    808450.000000  810333.000000                      16.000000   \n",
       "\n",
       "       Baselinehistological staging  \n",
       "count                   1385.000000  \n",
       "mean                       2.536462  \n",
       "std                        1.121392  \n",
       "min                        1.000000  \n",
       "25%                        2.000000  \n",
       "50%                        3.000000  \n",
       "75%                        4.000000  \n",
       "max                        4.000000  \n",
       "\n",
       "[8 rows x 29 columns]"
      ]
     },
     "execution_count": 18,
     "metadata": {},
     "output_type": "execute_result"
    }
   ],
   "source": [
    "df_hepatite.describe()"
   ]
  },
  {
   "cell_type": "code",
   "execution_count": 19,
   "id": "d155233c",
   "metadata": {},
   "outputs": [
    {
     "data": {
      "text/html": [
       "<div>\n",
       "<style scoped>\n",
       "    .dataframe tbody tr th:only-of-type {\n",
       "        vertical-align: middle;\n",
       "    }\n",
       "\n",
       "    .dataframe tbody tr th {\n",
       "        vertical-align: top;\n",
       "    }\n",
       "\n",
       "    .dataframe thead th {\n",
       "        text-align: right;\n",
       "    }\n",
       "</style>\n",
       "<table border=\"1\" class=\"dataframe\">\n",
       "  <thead>\n",
       "    <tr style=\"text-align: right;\">\n",
       "      <th></th>\n",
       "      <th>WBC</th>\n",
       "      <th>RBC</th>\n",
       "      <th>HGB</th>\n",
       "      <th>Plat</th>\n",
       "      <th>AST 1</th>\n",
       "      <th>ALT 1</th>\n",
       "      <th>ALT4</th>\n",
       "      <th>ALT 12</th>\n",
       "      <th>ALT 24</th>\n",
       "    </tr>\n",
       "  </thead>\n",
       "  <tbody>\n",
       "    <tr>\n",
       "      <th>count</th>\n",
       "      <td>1385.000000</td>\n",
       "      <td>1.385000e+03</td>\n",
       "      <td>1385.000000</td>\n",
       "      <td>1385.00000</td>\n",
       "      <td>1385.000000</td>\n",
       "      <td>1385.000000</td>\n",
       "      <td>1385.000000</td>\n",
       "      <td>1385.000000</td>\n",
       "      <td>1385.000000</td>\n",
       "    </tr>\n",
       "    <tr>\n",
       "      <th>mean</th>\n",
       "      <td>7533.386282</td>\n",
       "      <td>4.422130e+06</td>\n",
       "      <td>12.587726</td>\n",
       "      <td>158348.06065</td>\n",
       "      <td>82.774729</td>\n",
       "      <td>83.916245</td>\n",
       "      <td>83.405776</td>\n",
       "      <td>83.510469</td>\n",
       "      <td>83.709025</td>\n",
       "    </tr>\n",
       "    <tr>\n",
       "      <th>std</th>\n",
       "      <td>2668.220333</td>\n",
       "      <td>3.463577e+05</td>\n",
       "      <td>1.713511</td>\n",
       "      <td>38794.78555</td>\n",
       "      <td>25.993242</td>\n",
       "      <td>25.922800</td>\n",
       "      <td>26.529730</td>\n",
       "      <td>26.064478</td>\n",
       "      <td>26.205994</td>\n",
       "    </tr>\n",
       "    <tr>\n",
       "      <th>min</th>\n",
       "      <td>2991.000000</td>\n",
       "      <td>3.816422e+06</td>\n",
       "      <td>10.000000</td>\n",
       "      <td>93013.00000</td>\n",
       "      <td>39.000000</td>\n",
       "      <td>39.000000</td>\n",
       "      <td>39.000000</td>\n",
       "      <td>39.000000</td>\n",
       "      <td>39.000000</td>\n",
       "    </tr>\n",
       "    <tr>\n",
       "      <th>25%</th>\n",
       "      <td>5219.000000</td>\n",
       "      <td>4.121374e+06</td>\n",
       "      <td>11.000000</td>\n",
       "      <td>124479.00000</td>\n",
       "      <td>60.000000</td>\n",
       "      <td>62.000000</td>\n",
       "      <td>61.000000</td>\n",
       "      <td>60.000000</td>\n",
       "      <td>61.000000</td>\n",
       "    </tr>\n",
       "    <tr>\n",
       "      <th>50%</th>\n",
       "      <td>7498.000000</td>\n",
       "      <td>4.438465e+06</td>\n",
       "      <td>13.000000</td>\n",
       "      <td>157916.00000</td>\n",
       "      <td>83.000000</td>\n",
       "      <td>83.000000</td>\n",
       "      <td>82.000000</td>\n",
       "      <td>84.000000</td>\n",
       "      <td>83.000000</td>\n",
       "    </tr>\n",
       "    <tr>\n",
       "      <th>75%</th>\n",
       "      <td>9902.000000</td>\n",
       "      <td>4.721279e+06</td>\n",
       "      <td>14.000000</td>\n",
       "      <td>190314.00000</td>\n",
       "      <td>105.000000</td>\n",
       "      <td>106.000000</td>\n",
       "      <td>107.000000</td>\n",
       "      <td>106.000000</td>\n",
       "      <td>107.000000</td>\n",
       "    </tr>\n",
       "    <tr>\n",
       "      <th>max</th>\n",
       "      <td>12101.000000</td>\n",
       "      <td>5.018451e+06</td>\n",
       "      <td>15.000000</td>\n",
       "      <td>226464.00000</td>\n",
       "      <td>128.000000</td>\n",
       "      <td>128.000000</td>\n",
       "      <td>128.000000</td>\n",
       "      <td>128.000000</td>\n",
       "      <td>128.000000</td>\n",
       "    </tr>\n",
       "  </tbody>\n",
       "</table>\n",
       "</div>"
      ],
      "text/plain": [
       "                WBC           RBC          HGB          Plat        AST 1  \\\n",
       "count   1385.000000  1.385000e+03  1385.000000    1385.00000  1385.000000   \n",
       "mean    7533.386282  4.422130e+06    12.587726  158348.06065    82.774729   \n",
       "std     2668.220333  3.463577e+05     1.713511   38794.78555    25.993242   \n",
       "min     2991.000000  3.816422e+06    10.000000   93013.00000    39.000000   \n",
       "25%     5219.000000  4.121374e+06    11.000000  124479.00000    60.000000   \n",
       "50%     7498.000000  4.438465e+06    13.000000  157916.00000    83.000000   \n",
       "75%     9902.000000  4.721279e+06    14.000000  190314.00000   105.000000   \n",
       "max    12101.000000  5.018451e+06    15.000000  226464.00000   128.000000   \n",
       "\n",
       "             ALT 1         ALT4       ALT 12       ALT 24  \n",
       "count  1385.000000  1385.000000  1385.000000  1385.000000  \n",
       "mean     83.916245    83.405776    83.510469    83.709025  \n",
       "std      25.922800    26.529730    26.064478    26.205994  \n",
       "min      39.000000    39.000000    39.000000    39.000000  \n",
       "25%      62.000000    61.000000    60.000000    61.000000  \n",
       "50%      83.000000    82.000000    84.000000    83.000000  \n",
       "75%     106.000000   107.000000   106.000000   107.000000  \n",
       "max     128.000000   128.000000   128.000000   128.000000  "
      ]
     },
     "execution_count": 19,
     "metadata": {},
     "output_type": "execute_result"
    }
   ],
   "source": [
    "df_hepatite[['WBC', 'RBC', 'HGB', 'Plat', 'AST 1', 'ALT 1',\n",
    "       'ALT4', 'ALT 12', 'ALT 24']].describe()"
   ]
  },
  {
   "cell_type": "markdown",
   "id": "ef655c61",
   "metadata": {},
   "source": [
    "### Profile Report"
   ]
  },
  {
   "cell_type": "code",
   "execution_count": 20,
   "id": "c3b8cd8e",
   "metadata": {},
   "outputs": [
    {
     "data": {
      "application/vnd.jupyter.widget-view+json": {
       "model_id": "a75678586b72489cb13ce6d0e3813b43",
       "version_major": 2,
       "version_minor": 0
      },
      "text/plain": [
       "Summarize dataset:   0%|          | 0/5 [00:00<?, ?it/s]"
      ]
     },
     "metadata": {},
     "output_type": "display_data"
    },
    {
     "data": {
      "application/vnd.jupyter.widget-view+json": {
       "model_id": "68dd4135d5c34eafaa87e03054f80c05",
       "version_major": 2,
       "version_minor": 0
      },
      "text/plain": [
       "Generate report structure:   0%|          | 0/1 [00:00<?, ?it/s]"
      ]
     },
     "metadata": {},
     "output_type": "display_data"
    },
    {
     "data": {
      "application/vnd.jupyter.widget-view+json": {
       "model_id": "62b5d74448354de29c72d7516a5ac360",
       "version_major": 2,
       "version_minor": 0
      },
      "text/plain": [
       "Render HTML:   0%|          | 0/1 [00:00<?, ?it/s]"
      ]
     },
     "metadata": {},
     "output_type": "display_data"
    },
    {
     "data": {
      "application/vnd.jupyter.widget-view+json": {
       "model_id": "d71dd769f51740d7a4e0326279209da0",
       "version_major": 2,
       "version_minor": 0
      },
      "text/plain": [
       "Export report to file:   0%|          | 0/1 [00:00<?, ?it/s]"
      ]
     },
     "metadata": {},
     "output_type": "display_data"
    }
   ],
   "source": [
    "profile = ProfileReport(df_hepatite, title=\"Hepatitis C Profile Report\")\n",
    "profile.to_file('hepatitis_report.html')"
   ]
  },
  {
   "cell_type": "markdown",
   "id": "5c3150fa",
   "metadata": {},
   "source": [
    "### Analisando Histograma dos Dados"
   ]
  },
  {
   "cell_type": "code",
   "execution_count": 21,
   "id": "5de0602e",
   "metadata": {},
   "outputs": [],
   "source": [
    "%matplotlib inline"
   ]
  },
  {
   "cell_type": "code",
   "execution_count": 22,
   "id": "c4c4fc09",
   "metadata": {},
   "outputs": [
    {
     "data": {
      "image/png": "[encoded data removed]",
      "text/plain": [
       "<Figure size 1440x1224 with 30 Axes>"
      ]
     },
     "metadata": {
      "needs_background": "light"
     },
     "output_type": "display_data"
    }
   ],
   "source": [
    "df_hepatite.hist(bins=30, figsize=(20,17))\n",
    "plt.show()"
   ]
  },
  {
   "cell_type": "code",
   "execution_count": 23,
   "id": "7ae50941",
   "metadata": {},
   "outputs": [
    {
     "data": {
      "text/html": [
       "<div>\n",
       "<style scoped>\n",
       "    .dataframe tbody tr th:only-of-type {\n",
       "        vertical-align: middle;\n",
       "    }\n",
       "\n",
       "    .dataframe tbody tr th {\n",
       "        vertical-align: top;\n",
       "    }\n",
       "\n",
       "    .dataframe thead th {\n",
       "        text-align: right;\n",
       "    }\n",
       "</style>\n",
       "<table border=\"1\" class=\"dataframe\">\n",
       "  <thead>\n",
       "    <tr style=\"text-align: right;\">\n",
       "      <th></th>\n",
       "      <th>level_0</th>\n",
       "      <th>level_1</th>\n",
       "      <th>0</th>\n",
       "    </tr>\n",
       "  </thead>\n",
       "  <tbody>\n",
       "    <tr>\n",
       "      <th>806</th>\n",
       "      <td>RNA 12</td>\n",
       "      <td>RNA EOT</td>\n",
       "      <td>0.407537</td>\n",
       "    </tr>\n",
       "    <tr>\n",
       "      <th>807</th>\n",
       "      <td>RNA EOT</td>\n",
       "      <td>RNA 12</td>\n",
       "      <td>0.407537</td>\n",
       "    </tr>\n",
       "    <tr>\n",
       "      <th>808</th>\n",
       "      <td>RNA 12</td>\n",
       "      <td>RNA EF</td>\n",
       "      <td>0.420023</td>\n",
       "    </tr>\n",
       "    <tr>\n",
       "      <th>809</th>\n",
       "      <td>RNA EF</td>\n",
       "      <td>RNA 12</td>\n",
       "      <td>0.420023</td>\n",
       "    </tr>\n",
       "    <tr>\n",
       "      <th>810</th>\n",
       "      <td>RNA EF</td>\n",
       "      <td>RNA EOT</td>\n",
       "      <td>0.445988</td>\n",
       "    </tr>\n",
       "    <tr>\n",
       "      <th>811</th>\n",
       "      <td>RNA EOT</td>\n",
       "      <td>RNA EF</td>\n",
       "      <td>0.445988</td>\n",
       "    </tr>\n",
       "  </tbody>\n",
       "</table>\n",
       "</div>"
      ],
      "text/plain": [
       "     level_0  level_1         0\n",
       "806   RNA 12  RNA EOT  0.407537\n",
       "807  RNA EOT   RNA 12  0.407537\n",
       "808   RNA 12   RNA EF  0.420023\n",
       "809   RNA EF   RNA 12  0.420023\n",
       "810   RNA EF  RNA EOT  0.445988\n",
       "811  RNA EOT   RNA EF  0.445988"
      ]
     },
     "execution_count": 23,
     "metadata": {},
     "output_type": "execute_result"
    }
   ],
   "source": [
    "#correlações maiores que 0.1 ou diferetes de 1\n",
    "corr_df = df_hepatite.corr().abs()\n",
    "s = corr_df.unstack()\n",
    "so = s.sort_values(kind='quicksort')\n",
    "df_so = pd.DataFrame(so)\n",
    "df_so.reset_index(inplace=True)\n",
    "df_so.drop(df_so[(df_so[0]<0.1) | (df_so[0] == 1)].index, inplace=True)\n",
    "df_so"
   ]
  },
  {
   "cell_type": "code",
   "execution_count": 24,
   "id": "aca92a5b",
   "metadata": {},
   "outputs": [],
   "source": [
    "#cópia do dataset\n",
    "df = df_hepatite.copy()"
   ]
  },
  {
   "cell_type": "code",
   "execution_count": 25,
   "id": "94b03012",
   "metadata": {},
   "outputs": [
    {
     "data": {
      "text/plain": [
       "15    139\n",
       "11    121\n",
       "14    106\n",
       "9     103\n",
       "6     102\n",
       "12    101\n",
       "8      97\n",
       "13     95\n",
       "4      94\n",
       "5      93\n",
       "3      89\n",
       "10     87\n",
       "16     86\n",
       "7      72\n",
       "Name: Baseline histological Grading, dtype: int64"
      ]
     },
     "execution_count": 25,
     "metadata": {},
     "output_type": "execute_result"
    }
   ],
   "source": [
    "df['Baseline histological Grading'].value_counts()"
   ]
  },
  {
   "cell_type": "code",
   "execution_count": 26,
   "id": "251c388b",
   "metadata": {},
   "outputs": [
    {
     "data": {
      "text/plain": [
       "4    362\n",
       "3    355\n",
       "1    336\n",
       "2    332\n",
       "Name: Baselinehistological staging, dtype: int64"
      ]
     },
     "execution_count": 26,
     "metadata": {},
     "output_type": "execute_result"
    }
   ],
   "source": [
    "df['Baselinehistological staging'].value_counts()"
   ]
  },
  {
   "cell_type": "markdown",
   "id": "bd442e79",
   "metadata": {},
   "source": [
    "As classes estão bem balanceadas!"
   ]
  },
  {
   "cell_type": "code",
   "execution_count": 27,
   "id": "0632e975",
   "metadata": {},
   "outputs": [
    {
     "data": {
      "text/plain": [
       "Index(['Age ', 'Gender', 'BMI', 'Fever', 'Nausea/Vomting', 'Headache ',\n",
       "       'Diarrhea ', 'Fatigue & generalized bone ache ', 'Jaundice ',\n",
       "       'Epigastric pain ', 'WBC', 'RBC', 'HGB', 'Plat', 'AST 1', 'ALT 1',\n",
       "       'ALT4', 'ALT 12', 'ALT 24', 'ALT 36', 'ALT 48', 'ALT after 24 w',\n",
       "       'RNA Base', 'RNA 4', 'RNA 12', 'RNA EOT', 'RNA EF',\n",
       "       'Baseline histological Grading', 'Baselinehistological staging'],\n",
       "      dtype='object')"
      ]
     },
     "execution_count": 27,
     "metadata": {},
     "output_type": "execute_result"
    }
   ],
   "source": [
    "df.columns"
   ]
  },
  {
   "cell_type": "markdown",
   "id": "f46b910d",
   "metadata": {},
   "source": [
    "Tirando o espaço no nome das colunas e abreviando o nome de outras."
   ]
  },
  {
   "cell_type": "code",
   "execution_count": 28,
   "id": "a36cd0f9",
   "metadata": {},
   "outputs": [],
   "source": [
    "df.rename(columns={'Age ':'Age', \n",
    "                   'Jaundice ':'Jaundice', \n",
    "                   'Headache ':'Headache',\n",
    "                   'Diarrhea ':'Diarrhea',\n",
    "                   'Fatigue & generalized bone ache ':'FGba',\n",
    "                   'Epigastric pain ':'Ep',\n",
    "                   'Baseline histological Grading':'BhG',\n",
    "                  }, inplace=True)"
   ]
  },
  {
   "cell_type": "code",
   "execution_count": 29,
   "id": "1b2e2b5f",
   "metadata": {},
   "outputs": [
    {
     "data": {
      "image/png": "[encoded data removed]",
      "text/plain": [
       "<Figure size 720x360 with 1 Axes>"
      ]
     },
     "metadata": {},
     "output_type": "display_data"
    }
   ],
   "source": [
    "sns.set_theme(style=\"ticks\")\n",
    "\n",
    "f, ax = plt.subplots(figsize=(10, 5))\n",
    "sns.despine(f)\n",
    "\n",
    "sns.histplot(\n",
    "    df,\n",
    "    x=\"Age\", hue=\"Baselinehistological staging\",\n",
    "    discrete=True,\n",
    "    multiple=\"stack\",\n",
    "    palette=\"light:m_r\",\n",
    "    edgecolor=\".3\",\n",
    "    linewidth=.5,\n",
    ")\n",
    "ax.xaxis.set_major_formatter(mpl.ticker.ScalarFormatter())"
   ]
  },
  {
   "cell_type": "markdown",
   "id": "202dc7c8",
   "metadata": {},
   "source": [
    "## Detecção de Outliers"
   ]
  },
  {
   "cell_type": "code",
   "execution_count": 30,
   "id": "7f895db2",
   "metadata": {},
   "outputs": [],
   "source": [
    "def outlier_plot(atribute):\n",
    "    plt.figure(figsize=(15,5))\n",
    "\n",
    "    plt.subplot(1,2,1)\n",
    "    sns.boxplot(x=atribute)\n",
    "    \n",
    "    plt.subplot(1,2,2)\n",
    "    sns.histplot(x=atribute)\n",
    "    \n",
    "    plt.show()"
   ]
  },
  {
   "cell_type": "code",
   "execution_count": 31,
   "id": "83d820f5",
   "metadata": {},
   "outputs": [
    {
     "data": {
      "image/png": "[encoded data removed]",
      "text/plain": [
       "<Figure size 1080x360 with 2 Axes>"
      ]
     },
     "metadata": {},
     "output_type": "display_data"
    }
   ],
   "source": [
    "outlier_plot(df['ALT after 24 w'])"
   ]
  },
  {
   "cell_type": "code",
   "execution_count": 32,
   "id": "7822c9f8",
   "metadata": {},
   "outputs": [
    {
     "name": "stdout",
     "output_type": "stream",
     "text": [
      "3 instâncias\n"
     ]
    }
   ],
   "source": [
    "#quantas instancias existem com valor de ALT after 24w menor do que 20\n",
    "alt_outlier = df['ALT after 24 w'] < 20\n",
    "print(f\"{len(df[alt_outlier].value_counts())} instâncias\")"
   ]
  },
  {
   "cell_type": "code",
   "execution_count": 33,
   "id": "a5264c2e",
   "metadata": {},
   "outputs": [
    {
     "data": {
      "image/png": "[encoded data removed]",
      "text/plain": [
       "<Figure size 1080x360 with 2 Axes>"
      ]
     },
     "metadata": {},
     "output_type": "display_data"
    }
   ],
   "source": [
    "outlier_plot(df['RNA 12'])"
   ]
  },
  {
   "cell_type": "code",
   "execution_count": 34,
   "id": "5fbc12bc",
   "metadata": {},
   "outputs": [
    {
     "name": "stdout",
     "output_type": "stream",
     "text": [
      "1 intância\n"
     ]
    }
   ],
   "source": [
    "#quantas instancias existem com o valor de RNA 12 acima de 1x10^6\n",
    "rna12_outlier = df['RNA 12'] > 1000000\n",
    "print(f\"{len(df[rna12_outlier].value_counts().index)} intância\")"
   ]
  },
  {
   "cell_type": "code",
   "execution_count": 35,
   "id": "cc67acef",
   "metadata": {},
   "outputs": [
    {
     "name": "stdout",
     "output_type": "stream",
     "text": [
      "385 intância\n"
     ]
    }
   ],
   "source": [
    "#quantas instancias existem com o valor de RNA 12 igual a 5\n",
    "print(f\"{len(df[df['RNA 12'] == 5].value_counts().index)} intância\")"
   ]
  },
  {
   "cell_type": "code",
   "execution_count": 36,
   "id": "3932b090",
   "metadata": {},
   "outputs": [
    {
     "data": {
      "image/png": "[encoded data removed]",
      "text/plain": [
       "<Figure size 1080x360 with 2 Axes>"
      ]
     },
     "metadata": {},
     "output_type": "display_data"
    }
   ],
   "source": [
    "outlier_plot(df['RNA EOT'])"
   ]
  },
  {
   "cell_type": "code",
   "execution_count": 37,
   "id": "3d4b737f",
   "metadata": {},
   "outputs": [
    {
     "name": "stdout",
     "output_type": "stream",
     "text": [
      "384 intâncias\n"
     ]
    }
   ],
   "source": [
    "#quantas instancias existem com o valor de RNA EOT igual a 5\n",
    "print(f\"{len(df[df['RNA EOT'] == 5].value_counts().index)} intâncias\")"
   ]
  },
  {
   "cell_type": "code",
   "execution_count": 38,
   "id": "beee6387",
   "metadata": {},
   "outputs": [
    {
     "data": {
      "image/png": "[encoded data removed]",
      "text/plain": [
       "<Figure size 1080x360 with 2 Axes>"
      ]
     },
     "metadata": {},
     "output_type": "display_data"
    }
   ],
   "source": [
    "outlier_plot(df['RNA EF'])"
   ]
  },
  {
   "cell_type": "code",
   "execution_count": 78,
   "id": "c0303969",
   "metadata": {},
   "outputs": [
    {
     "name": "stdout",
     "output_type": "stream",
     "text": [
      "382 intâncias\n"
     ]
    }
   ],
   "source": [
    "#quantas instancias existem com o valor de RNA EF igual a 5\n",
    "print(f\"{len(df[df['RNA EF'] == 5].value_counts().index)} intâncias\")"
   ]
  },
  {
   "cell_type": "markdown",
   "id": "57a6f4ba",
   "metadata": {},
   "source": [
    "Os valores 5 para o RNA indicam uma baixa atividade do vírus no organismo do paciente o que indica que a doença está controlada através de medicamentos."
   ]
  },
  {
   "cell_type": "code",
   "execution_count": 39,
   "id": "0b7a6c20",
   "metadata": {},
   "outputs": [],
   "source": [
    "#verificando as instâncias que possuem valor 5 de RNA\n",
    "rna12 = df['RNA 12'] == 5\n",
    "rna_eot = df['RNA EOT'] == 5\n",
    "rna_ef = df['RNA EF'] == 5"
   ]
  },
  {
   "cell_type": "code",
   "execution_count": 40,
   "id": "92868d6b",
   "metadata": {},
   "outputs": [],
   "source": [
    "class_1_instances = df['Baselinehistological staging'] == 1\n",
    "class_2_instances = df['Baselinehistological staging'] == 2\n",
    "class_3_instances = df['Baselinehistological staging'] == 3\n",
    "class_4_instances = df['Baselinehistological staging'] == 4"
   ]
  },
  {
   "cell_type": "code",
   "execution_count": 41,
   "id": "0b2bb328",
   "metadata": {},
   "outputs": [
    {
     "name": "stdout",
     "output_type": "stream",
     "text": [
      "Quantidade de instâncias por classe: \n",
      " Classe 1: 91\n",
      " Classe 2: 102\n",
      " Classe 3: 93\n",
      " Classe 4: 100\n"
     ]
    },
    {
     "name": "stderr",
     "output_type": "stream",
     "text": [
      "C:\\Users\\tasso\\AppData\\Local\\Temp/ipykernel_13808/3226133131.py:1: UserWarning: Boolean Series key will be reindexed to match DataFrame index.\n",
      "  qtd_1 = len(df[rna12 | rna_eot | rna_ef][class_1_instances].value_counts().index)\n",
      "C:\\Users\\tasso\\AppData\\Local\\Temp/ipykernel_13808/3226133131.py:2: UserWarning: Boolean Series key will be reindexed to match DataFrame index.\n",
      "  qtd_2 = len(df[rna12 | rna_eot | rna_ef][class_2_instances].value_counts().index)\n",
      "C:\\Users\\tasso\\AppData\\Local\\Temp/ipykernel_13808/3226133131.py:3: UserWarning: Boolean Series key will be reindexed to match DataFrame index.\n",
      "  qtd_3 = len(df[rna12 | rna_eot | rna_ef][class_3_instances].value_counts().index)\n",
      "C:\\Users\\tasso\\AppData\\Local\\Temp/ipykernel_13808/3226133131.py:4: UserWarning: Boolean Series key will be reindexed to match DataFrame index.\n",
      "  qtd_4 = len(df[rna12 | rna_eot | rna_ef][class_4_instances].value_counts().index)\n"
     ]
    }
   ],
   "source": [
    "qtd_1 = len(df[rna12 | rna_eot | rna_ef][class_1_instances].value_counts().index)\n",
    "qtd_2 = len(df[rna12 | rna_eot | rna_ef][class_2_instances].value_counts().index)\n",
    "qtd_3 = len(df[rna12 | rna_eot | rna_ef][class_3_instances].value_counts().index)\n",
    "qtd_4 = len(df[rna12 | rna_eot | rna_ef][class_4_instances].value_counts().index)\n",
    "\n",
    "print(f\"Quantidade de instâncias por classe: \\n Classe 1: {qtd_1}\\n Classe 2: {qtd_2}\\n Classe 3: {qtd_3}\\n Classe 4: {qtd_4}\")"
   ]
  },
  {
   "cell_type": "markdown",
   "id": "af4fbee3",
   "metadata": {},
   "source": [
    "Os valores acima mostram que não há uma relação de as classes e o RNA com valor igual a 5.\n",
    "\n",
    "Muitas instâncias possuem um valor de RNA igual a 5 o que é muito diferente dos outros valores cuja a média estão acima 280000. Porém um valor tão baixo de RNA pode indicar uma baixa atividade do vírus. \n",
    "\n",
    "Assim somente os valores das variáveis `ALT after 24 w` e `RNA 12` serão considerados como outliers e removidos."
   ]
  },
  {
   "cell_type": "code",
   "execution_count": 42,
   "id": "610d2362",
   "metadata": {},
   "outputs": [],
   "source": [
    "df_out = df.drop(df[rna12_outlier | alt_outlier].index)"
   ]
  },
  {
   "cell_type": "code",
   "execution_count": 43,
   "id": "5a2f166e",
   "metadata": {},
   "outputs": [
    {
     "data": {
      "text/html": [
       "<div>\n",
       "<style scoped>\n",
       "    .dataframe tbody tr th:only-of-type {\n",
       "        vertical-align: middle;\n",
       "    }\n",
       "\n",
       "    .dataframe tbody tr th {\n",
       "        vertical-align: top;\n",
       "    }\n",
       "\n",
       "    .dataframe thead th {\n",
       "        text-align: right;\n",
       "    }\n",
       "</style>\n",
       "<table border=\"1\" class=\"dataframe\">\n",
       "  <thead>\n",
       "    <tr style=\"text-align: right;\">\n",
       "      <th></th>\n",
       "      <th>Age</th>\n",
       "      <th>Gender</th>\n",
       "      <th>BMI</th>\n",
       "      <th>Fever</th>\n",
       "      <th>Nausea/Vomting</th>\n",
       "      <th>Headache</th>\n",
       "      <th>Diarrhea</th>\n",
       "      <th>FGba</th>\n",
       "      <th>Jaundice</th>\n",
       "      <th>Ep</th>\n",
       "      <th>...</th>\n",
       "      <th>ALT 36</th>\n",
       "      <th>ALT 48</th>\n",
       "      <th>ALT after 24 w</th>\n",
       "      <th>RNA Base</th>\n",
       "      <th>RNA 4</th>\n",
       "      <th>RNA 12</th>\n",
       "      <th>RNA EOT</th>\n",
       "      <th>RNA EF</th>\n",
       "      <th>BhG</th>\n",
       "      <th>Baselinehistological staging</th>\n",
       "    </tr>\n",
       "  </thead>\n",
       "  <tbody>\n",
       "    <tr>\n",
       "      <th>1</th>\n",
       "      <td>46</td>\n",
       "      <td>1</td>\n",
       "      <td>29</td>\n",
       "      <td>1</td>\n",
       "      <td>2</td>\n",
       "      <td>2</td>\n",
       "      <td>1</td>\n",
       "      <td>2</td>\n",
       "      <td>2</td>\n",
       "      <td>1</td>\n",
       "      <td>...</td>\n",
       "      <td>57</td>\n",
       "      <td>123</td>\n",
       "      <td>44</td>\n",
       "      <td>40620</td>\n",
       "      <td>538635</td>\n",
       "      <td>637056</td>\n",
       "      <td>336804</td>\n",
       "      <td>31085</td>\n",
       "      <td>4</td>\n",
       "      <td>2</td>\n",
       "    </tr>\n",
       "    <tr>\n",
       "      <th>3</th>\n",
       "      <td>49</td>\n",
       "      <td>2</td>\n",
       "      <td>33</td>\n",
       "      <td>1</td>\n",
       "      <td>2</td>\n",
       "      <td>1</td>\n",
       "      <td>2</td>\n",
       "      <td>1</td>\n",
       "      <td>2</td>\n",
       "      <td>1</td>\n",
       "      <td>...</td>\n",
       "      <td>48</td>\n",
       "      <td>77</td>\n",
       "      <td>33</td>\n",
       "      <td>1041941</td>\n",
       "      <td>449939</td>\n",
       "      <td>585688</td>\n",
       "      <td>744463</td>\n",
       "      <td>582301</td>\n",
       "      <td>10</td>\n",
       "      <td>3</td>\n",
       "    </tr>\n",
       "    <tr>\n",
       "      <th>5</th>\n",
       "      <td>58</td>\n",
       "      <td>2</td>\n",
       "      <td>22</td>\n",
       "      <td>2</td>\n",
       "      <td>2</td>\n",
       "      <td>2</td>\n",
       "      <td>1</td>\n",
       "      <td>2</td>\n",
       "      <td>2</td>\n",
       "      <td>1</td>\n",
       "      <td>...</td>\n",
       "      <td>73</td>\n",
       "      <td>114</td>\n",
       "      <td>29</td>\n",
       "      <td>1157452</td>\n",
       "      <td>1086852</td>\n",
       "      <td>5</td>\n",
       "      <td>5</td>\n",
       "      <td>5</td>\n",
       "      <td>4</td>\n",
       "      <td>4</td>\n",
       "    </tr>\n",
       "    <tr>\n",
       "      <th>6</th>\n",
       "      <td>42</td>\n",
       "      <td>2</td>\n",
       "      <td>26</td>\n",
       "      <td>1</td>\n",
       "      <td>1</td>\n",
       "      <td>2</td>\n",
       "      <td>2</td>\n",
       "      <td>2</td>\n",
       "      <td>2</td>\n",
       "      <td>2</td>\n",
       "      <td>...</td>\n",
       "      <td>84</td>\n",
       "      <td>80</td>\n",
       "      <td>28</td>\n",
       "      <td>325694</td>\n",
       "      <td>1034008</td>\n",
       "      <td>275095</td>\n",
       "      <td>214566</td>\n",
       "      <td>635157</td>\n",
       "      <td>12</td>\n",
       "      <td>4</td>\n",
       "    </tr>\n",
       "    <tr>\n",
       "      <th>7</th>\n",
       "      <td>48</td>\n",
       "      <td>2</td>\n",
       "      <td>30</td>\n",
       "      <td>1</td>\n",
       "      <td>1</td>\n",
       "      <td>2</td>\n",
       "      <td>2</td>\n",
       "      <td>1</td>\n",
       "      <td>1</td>\n",
       "      <td>2</td>\n",
       "      <td>...</td>\n",
       "      <td>96</td>\n",
       "      <td>53</td>\n",
       "      <td>39</td>\n",
       "      <td>641129</td>\n",
       "      <td>72050</td>\n",
       "      <td>787295</td>\n",
       "      <td>370605</td>\n",
       "      <td>506296</td>\n",
       "      <td>12</td>\n",
       "      <td>3</td>\n",
       "    </tr>\n",
       "  </tbody>\n",
       "</table>\n",
       "<p>5 rows × 29 columns</p>\n",
       "</div>"
      ],
      "text/plain": [
       "   Age  Gender  BMI  Fever  Nausea/Vomting  Headache  Diarrhea  FGba  \\\n",
       "1   46       1   29      1               2         2         1     2   \n",
       "3   49       2   33      1               2         1         2     1   \n",
       "5   58       2   22      2               2         2         1     2   \n",
       "6   42       2   26      1               1         2         2     2   \n",
       "7   48       2   30      1               1         2         2     1   \n",
       "\n",
       "   Jaundice  Ep  ...  ALT 36  ALT 48  ALT after 24 w  RNA Base    RNA 4  \\\n",
       "1         2   1  ...      57     123              44     40620   538635   \n",
       "3         2   1  ...      48      77              33   1041941   449939   \n",
       "5         2   1  ...      73     114              29   1157452  1086852   \n",
       "6         2   2  ...      84      80              28    325694  1034008   \n",
       "7         1   2  ...      96      53              39    641129    72050   \n",
       "\n",
       "   RNA 12  RNA EOT  RNA EF  BhG  Baselinehistological staging  \n",
       "1  637056   336804   31085    4                             2  \n",
       "3  585688   744463  582301   10                             3  \n",
       "5       5        5       5    4                             4  \n",
       "6  275095   214566  635157   12                             4  \n",
       "7  787295   370605  506296   12                             3  \n",
       "\n",
       "[5 rows x 29 columns]"
      ]
     },
     "execution_count": 43,
     "metadata": {},
     "output_type": "execute_result"
    }
   ],
   "source": [
    "df_out.head()"
   ]
  },
  {
   "cell_type": "markdown",
   "id": "7779d4f8",
   "metadata": {},
   "source": [
    "A penultima coluna, o atributo `BhG` poderia ser considerada como uma variável target, mas como nosso foco será somnete no grau de fibrose iremos descarta-la."
   ]
  },
  {
   "cell_type": "code",
   "execution_count": 44,
   "id": "8d12fe44",
   "metadata": {},
   "outputs": [],
   "source": [
    "df_out.drop('BhG', axis=1, inplace=True)"
   ]
  },
  {
   "cell_type": "code",
   "execution_count": 46,
   "id": "09d4bbd3",
   "metadata": {},
   "outputs": [],
   "source": [
    "df_out.to_csv('HCV-Egy-Data-no-outlier.csv')"
   ]
  }
 ],
 "metadata": {
  "kernelspec": {
   "display_name": "Python 3 (ipykernel)",
   "language": "python",
   "name": "python3"
  },
  "language_info": {
   "codemirror_mode": {
    "name": "ipython",
    "version": 3
   },
   "file_extension": ".py",
   "mimetype": "text/x-python",
   "name": "python",
   "nbconvert_exporter": "python",
   "pygments_lexer": "ipython3",
   "version": "3.9.5"
  }
 },
 "nbformat": 4,
 "nbformat_minor": 5
}
