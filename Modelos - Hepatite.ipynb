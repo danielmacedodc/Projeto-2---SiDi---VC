{
 "cells": [
  {
   "cell_type": "markdown",
   "id": "9533c8ce",
   "metadata": {},
   "source": [
    "# Modelos de Classificação - Hepatite"
   ]
  },
  {
   "cell_type": "code",
   "execution_count": 1,
   "id": "976d1b43",
   "metadata": {},
   "outputs": [],
   "source": [
    "# Bibliotecas de manipualção e visualização de dados\n",
    "import pandas as pd\n",
    "import numpy as np\n",
    "import matplotlib.pyplot as plt\n",
    "from mlxtend.plotting import plot_decision_regions\n",
    "from sklearn.preprocessing import StandardScaler\n",
    "import seaborn as sns\n",
    "\n",
    "# Classes dos modelo\n",
    "from sklearn.model_selection import StratifiedKFold\n",
    "from sklearn.linear_model import LogisticRegression, LinearRegression\n",
    "from sklearn.model_selection import KFold\n",
    "from sklearn.neighbors import KNeighborsClassifier as knn\n",
    "from sklearn.naive_bayes import GaussianNB, BernoulliNB\n",
    "from sklearn.neural_network import MLPClassifier\n",
    "from sklearn.svm import SVC\n",
    "from sklearn.tree import DecisionTreeClassifier\n",
    "\n",
    "# Funções de avaliação dos modelos\n",
    "from sklearn.metrics import classification_report, accuracy_score, f1_score, roc_auc_score, plot_confusion_matrix, confusion_matrix\n",
    "from sklearn.model_selection import train_test_split\n",
    "from sklearn.model_selection import GridSearchCV\n",
    "from yellowbrick.classifier import ROCAUC\n"
   ]
  },
  {
   "cell_type": "code",
   "execution_count": 2,
   "id": "f1144b30",
   "metadata": {},
   "outputs": [],
   "source": [
    "# dataset sem outliers\n",
    "df_hepatite = pd.read_csv('HCV-Egy-Data-no-outlier.csv')"
   ]
  },
  {
   "cell_type": "markdown",
   "id": "6c76e488",
   "metadata": {},
   "source": [
    "A remoção de outliers mostrou-se eficiente na performace do modelo aumentando em serca de 1% a acurácia."
   ]
  },
  {
   "cell_type": "code",
   "execution_count": 3,
   "id": "8cb0768c",
   "metadata": {},
   "outputs": [
    {
     "data": {
      "text/html": [
       "<div>\n",
       "<style scoped>\n",
       "    .dataframe tbody tr th:only-of-type {\n",
       "        vertical-align: middle;\n",
       "    }\n",
       "\n",
       "    .dataframe tbody tr th {\n",
       "        vertical-align: top;\n",
       "    }\n",
       "\n",
       "    .dataframe thead th {\n",
       "        text-align: right;\n",
       "    }\n",
       "</style>\n",
       "<table border=\"1\" class=\"dataframe\">\n",
       "  <thead>\n",
       "    <tr style=\"text-align: right;\">\n",
       "      <th></th>\n",
       "      <th>Unnamed: 0</th>\n",
       "      <th>Age</th>\n",
       "      <th>Gender</th>\n",
       "      <th>BMI</th>\n",
       "      <th>Fever</th>\n",
       "      <th>Nausea/Vomting</th>\n",
       "      <th>Headache</th>\n",
       "      <th>Diarrhea</th>\n",
       "      <th>FGba</th>\n",
       "      <th>Jaundice</th>\n",
       "      <th>...</th>\n",
       "      <th>ALT 24</th>\n",
       "      <th>ALT 36</th>\n",
       "      <th>ALT 48</th>\n",
       "      <th>ALT after 24 w</th>\n",
       "      <th>RNA Base</th>\n",
       "      <th>RNA 4</th>\n",
       "      <th>RNA 12</th>\n",
       "      <th>RNA EOT</th>\n",
       "      <th>RNA EF</th>\n",
       "      <th>Baselinehistological staging</th>\n",
       "    </tr>\n",
       "  </thead>\n",
       "  <tbody>\n",
       "    <tr>\n",
       "      <th>0</th>\n",
       "      <td>1</td>\n",
       "      <td>46</td>\n",
       "      <td>1</td>\n",
       "      <td>29</td>\n",
       "      <td>1</td>\n",
       "      <td>2</td>\n",
       "      <td>2</td>\n",
       "      <td>1</td>\n",
       "      <td>2</td>\n",
       "      <td>2</td>\n",
       "      <td>...</td>\n",
       "      <td>113</td>\n",
       "      <td>57</td>\n",
       "      <td>123</td>\n",
       "      <td>44</td>\n",
       "      <td>40620</td>\n",
       "      <td>538635</td>\n",
       "      <td>637056</td>\n",
       "      <td>336804</td>\n",
       "      <td>31085</td>\n",
       "      <td>2</td>\n",
       "    </tr>\n",
       "    <tr>\n",
       "      <th>1</th>\n",
       "      <td>3</td>\n",
       "      <td>49</td>\n",
       "      <td>2</td>\n",
       "      <td>33</td>\n",
       "      <td>1</td>\n",
       "      <td>2</td>\n",
       "      <td>1</td>\n",
       "      <td>2</td>\n",
       "      <td>1</td>\n",
       "      <td>2</td>\n",
       "      <td>...</td>\n",
       "      <td>88</td>\n",
       "      <td>48</td>\n",
       "      <td>77</td>\n",
       "      <td>33</td>\n",
       "      <td>1041941</td>\n",
       "      <td>449939</td>\n",
       "      <td>585688</td>\n",
       "      <td>744463</td>\n",
       "      <td>582301</td>\n",
       "      <td>3</td>\n",
       "    </tr>\n",
       "    <tr>\n",
       "      <th>2</th>\n",
       "      <td>5</td>\n",
       "      <td>58</td>\n",
       "      <td>2</td>\n",
       "      <td>22</td>\n",
       "      <td>2</td>\n",
       "      <td>2</td>\n",
       "      <td>2</td>\n",
       "      <td>1</td>\n",
       "      <td>2</td>\n",
       "      <td>2</td>\n",
       "      <td>...</td>\n",
       "      <td>65</td>\n",
       "      <td>73</td>\n",
       "      <td>114</td>\n",
       "      <td>29</td>\n",
       "      <td>1157452</td>\n",
       "      <td>1086852</td>\n",
       "      <td>5</td>\n",
       "      <td>5</td>\n",
       "      <td>5</td>\n",
       "      <td>4</td>\n",
       "    </tr>\n",
       "    <tr>\n",
       "      <th>3</th>\n",
       "      <td>6</td>\n",
       "      <td>42</td>\n",
       "      <td>2</td>\n",
       "      <td>26</td>\n",
       "      <td>1</td>\n",
       "      <td>1</td>\n",
       "      <td>2</td>\n",
       "      <td>2</td>\n",
       "      <td>2</td>\n",
       "      <td>2</td>\n",
       "      <td>...</td>\n",
       "      <td>107</td>\n",
       "      <td>84</td>\n",
       "      <td>80</td>\n",
       "      <td>28</td>\n",
       "      <td>325694</td>\n",
       "      <td>1034008</td>\n",
       "      <td>275095</td>\n",
       "      <td>214566</td>\n",
       "      <td>635157</td>\n",
       "      <td>4</td>\n",
       "    </tr>\n",
       "    <tr>\n",
       "      <th>4</th>\n",
       "      <td>7</td>\n",
       "      <td>48</td>\n",
       "      <td>2</td>\n",
       "      <td>30</td>\n",
       "      <td>1</td>\n",
       "      <td>1</td>\n",
       "      <td>2</td>\n",
       "      <td>2</td>\n",
       "      <td>1</td>\n",
       "      <td>1</td>\n",
       "      <td>...</td>\n",
       "      <td>45</td>\n",
       "      <td>96</td>\n",
       "      <td>53</td>\n",
       "      <td>39</td>\n",
       "      <td>641129</td>\n",
       "      <td>72050</td>\n",
       "      <td>787295</td>\n",
       "      <td>370605</td>\n",
       "      <td>506296</td>\n",
       "      <td>3</td>\n",
       "    </tr>\n",
       "  </tbody>\n",
       "</table>\n",
       "<p>5 rows × 29 columns</p>\n",
       "</div>"
      ],
      "text/plain": [
       "   Unnamed: 0  Age  Gender  BMI  Fever  Nausea/Vomting  Headache  Diarrhea  \\\n",
       "0           1   46       1   29      1               2         2         1   \n",
       "1           3   49       2   33      1               2         1         2   \n",
       "2           5   58       2   22      2               2         2         1   \n",
       "3           6   42       2   26      1               1         2         2   \n",
       "4           7   48       2   30      1               1         2         2   \n",
       "\n",
       "   FGba  Jaundice  ...  ALT 24  ALT 36  ALT 48  ALT after 24 w  RNA Base  \\\n",
       "0     2         2  ...     113      57     123              44     40620   \n",
       "1     1         2  ...      88      48      77              33   1041941   \n",
       "2     2         2  ...      65      73     114              29   1157452   \n",
       "3     2         2  ...     107      84      80              28    325694   \n",
       "4     1         1  ...      45      96      53              39    641129   \n",
       "\n",
       "     RNA 4  RNA 12  RNA EOT  RNA EF  Baselinehistological staging  \n",
       "0   538635  637056   336804   31085                             2  \n",
       "1   449939  585688   744463  582301                             3  \n",
       "2  1086852       5        5       5                             4  \n",
       "3  1034008  275095   214566  635157                             4  \n",
       "4    72050  787295   370605  506296                             3  \n",
       "\n",
       "[5 rows x 29 columns]"
      ]
     },
     "execution_count": 3,
     "metadata": {},
     "output_type": "execute_result"
    }
   ],
   "source": [
    "df_hepatite.head()"
   ]
  },
  {
   "cell_type": "markdown",
   "id": "c31fde9e",
   "metadata": {},
   "source": [
    "Ao exportar o dataset sem outliers surgiu a coluna `Unnamed: 0` que será removida."
   ]
  },
  {
   "cell_type": "code",
   "execution_count": 4,
   "id": "dc3afbde",
   "metadata": {},
   "outputs": [],
   "source": [
    "df_hepatite.drop('Unnamed: 0', axis=1, inplace=True)"
   ]
  },
  {
   "cell_type": "code",
   "execution_count": 5,
   "id": "f78bc7c3",
   "metadata": {},
   "outputs": [
    {
     "name": "stdout",
     "output_type": "stream",
     "text": [
      "<class 'pandas.core.frame.DataFrame'>\n",
      "RangeIndex: 1381 entries, 0 to 1380\n",
      "Data columns (total 28 columns):\n",
      " #   Column                        Non-Null Count  Dtype  \n",
      "---  ------                        --------------  -----  \n",
      " 0   Age                           1381 non-null   int64  \n",
      " 1   Gender                        1381 non-null   int64  \n",
      " 2   BMI                           1381 non-null   int64  \n",
      " 3   Fever                         1381 non-null   int64  \n",
      " 4   Nausea/Vomting                1381 non-null   int64  \n",
      " 5   Headache                      1381 non-null   int64  \n",
      " 6   Diarrhea                      1381 non-null   int64  \n",
      " 7   FGba                          1381 non-null   int64  \n",
      " 8   Jaundice                      1381 non-null   int64  \n",
      " 9   Ep                            1381 non-null   int64  \n",
      " 10  WBC                           1381 non-null   int64  \n",
      " 11  RBC                           1381 non-null   float64\n",
      " 12  HGB                           1381 non-null   int64  \n",
      " 13  Plat                          1381 non-null   float64\n",
      " 14  AST 1                         1381 non-null   int64  \n",
      " 15  ALT 1                         1381 non-null   int64  \n",
      " 16  ALT4                          1381 non-null   float64\n",
      " 17  ALT 12                        1381 non-null   int64  \n",
      " 18  ALT 24                        1381 non-null   int64  \n",
      " 19  ALT 36                        1381 non-null   int64  \n",
      " 20  ALT 48                        1381 non-null   int64  \n",
      " 21  ALT after 24 w                1381 non-null   int64  \n",
      " 22  RNA Base                      1381 non-null   int64  \n",
      " 23  RNA 4                         1381 non-null   int64  \n",
      " 24  RNA 12                        1381 non-null   int64  \n",
      " 25  RNA EOT                       1381 non-null   int64  \n",
      " 26  RNA EF                        1381 non-null   int64  \n",
      " 27  Baselinehistological staging  1381 non-null   int64  \n",
      "dtypes: float64(3), int64(25)\n",
      "memory usage: 302.2 KB\n"
     ]
    }
   ],
   "source": [
    "df_hepatite.info()"
   ]
  },
  {
   "cell_type": "markdown",
   "id": "de74a3af",
   "metadata": {},
   "source": [
    "### Seperação da váriável target do dataset"
   ]
  },
  {
   "cell_type": "code",
   "execution_count": 6,
   "id": "345b733c",
   "metadata": {},
   "outputs": [],
   "source": [
    "X = df_hepatite.drop('Baselinehistological staging', axis=1)\n",
    "y = df_hepatite['Baselinehistological staging']"
   ]
  },
  {
   "cell_type": "markdown",
   "id": "f313c122",
   "metadata": {},
   "source": [
    "## Pipeline dos Dados"
   ]
  },
  {
   "cell_type": "code",
   "execution_count": 7,
   "id": "e7e715f5",
   "metadata": {},
   "outputs": [],
   "source": [
    "from sklearn.pipeline import Pipeline\n",
    "from sklearn.preprocessing import StandardScaler"
   ]
  },
  {
   "cell_type": "markdown",
   "id": "9300e0f8",
   "metadata": {},
   "source": [
    "**Pipeline com dados númericos**\n",
    "\n",
    "Com a normalização dos dados o modelo de predição almentou em um valor de 6% sua acurácia."
   ]
  },
  {
   "cell_type": "code",
   "execution_count": 8,
   "id": "3f7c2978",
   "metadata": {},
   "outputs": [],
   "source": [
    "pipeline_numerico = Pipeline([\n",
    "    ('std_scaler', StandardScaler())\n",
    "])"
   ]
  },
  {
   "cell_type": "code",
   "execution_count": 9,
   "id": "0eba7733",
   "metadata": {},
   "outputs": [],
   "source": [
    "X_num = X.drop(['Gender', 'Fever', 'Nausea/Vomting', 'Headache', 'Diarrhea', 'FGba', 'Jaundice', 'Ep'], axis=1)\n",
    "X_num_tr = pipeline_numerico.fit_transform(X_num)"
   ]
  },
  {
   "cell_type": "markdown",
   "id": "c23e08ed",
   "metadata": {},
   "source": [
    "**Pipeline com dados categóricos**"
   ]
  },
  {
   "cell_type": "code",
   "execution_count": 10,
   "id": "08bbaf18",
   "metadata": {},
   "outputs": [],
   "source": [
    "X_num_std = pipeline_numerico.fit_transform(X_num)"
   ]
  },
  {
   "cell_type": "code",
   "execution_count": 11,
   "id": "3643b56a",
   "metadata": {},
   "outputs": [],
   "source": [
    "try:\n",
    "    from sklearn.preprocessing import OrdinalEncoder # just to raise an ImportError if Scikit-Learn < 0.20\n",
    "    from sklearn.preprocessing import OneHotEncoder\n",
    "except ImportError:\n",
    "    from future_encoders import OneHotEncoder # Scikit-Learn < 0.20"
   ]
  },
  {
   "cell_type": "code",
   "execution_count": 12,
   "id": "3e590ddb",
   "metadata": {},
   "outputs": [],
   "source": [
    "try:\n",
    "    from sklearn.compose import ColumnTransformer\n",
    "except ImportError:\n",
    "    from future_encoders import ColumnTransformer # Scikit-Learn < 0.20"
   ]
  },
  {
   "cell_type": "code",
   "execution_count": 30,
   "id": "a33b55d0",
   "metadata": {},
   "outputs": [],
   "source": [
    "# lista com os atributos categóricos\n",
    "atributos_cat = ['Gender', 'Fever', 'Nausea/Vomting', 'Headache', 'Diarrhea', 'FGba', 'Jaundice', 'Ep']\n",
    "# lista com os atributos númericos\n",
    "atributos_num = list(X.drop(['Gender', 'Fever', 'Nausea/Vomting', 'Headache', 'Diarrhea', 'FGba', 'Jaundice', 'Ep'], axis=1))"
   ]
  },
  {
   "cell_type": "code",
   "execution_count": 14,
   "id": "99aed4ff",
   "metadata": {},
   "outputs": [],
   "source": [
    "pipeline_num_cat = ColumnTransformer([\n",
    "    ('num', pipeline_numerico, atributos_num),\n",
    "    ('cat', OneHotEncoder(), atributos_cat)\n",
    "])"
   ]
  },
  {
   "cell_type": "code",
   "execution_count": 15,
   "id": "963232c2",
   "metadata": {},
   "outputs": [],
   "source": [
    "X_final = pipeline_num_cat.fit_transform(X)"
   ]
  },
  {
   "cell_type": "markdown",
   "id": "6d2c2e8f",
   "metadata": {},
   "source": [
    "## Funções para executar os modelos"
   ]
  },
  {
   "cell_type": "code",
   "execution_count": 83,
   "id": "b86d6693",
   "metadata": {},
   "outputs": [],
   "source": [
    "#função que retorna um dicionário com os valores dos resultados\n",
    "def model_results(model, X_train, y_train, X_test, y_test,results_dict_aux):\n",
    "    \n",
    "    model.fit(X_train, y_train)\n",
    "    y_pred = model.predict(X_test)\n",
    "\n",
    "    #medindo e armazenando acurácia, f1-score e auc-score no dicionário\n",
    "    accuracy = model.score(X_test, y_test)\n",
    "    f1 = f1_score(y_test, y_pred, average='weighted')\n",
    "    AUC = roc_auc_score(y_test, model.predict_proba(X_test), average='weighted', multi_class='ovo')\n",
    "    CM = confusion_matrix(y_test, y_pred)\n",
    "\n",
    "    results_dict_aux['accuracy'].append(accuracy)\n",
    "    results_dict_aux['f1'].append(f1)\n",
    "    results_dict_aux['auc'].append(AUC)\n",
    "    results_dict_aux['cm'].append(CM)\n",
    "    \n",
    "    #print(f\"f1: %.6f\\n\" %(f1))\n",
    "    #print(f\"Accuracy: %.6f\\n\" %(accuracy))\n",
    "    #print(f\"AUC: %.6f\" %(AUC))\n",
    "    #print(f\"CM: \\n{CM} \\n\")\n",
    "    '''\n",
    "    print(\"-----------------------CURVA ROC---------------------\")\n",
    "    visualizer = ROCAUC(model, encoder={1:\"Class 1\", 2:\"Class 2\", 3:\"Class 3\", 4:\"Class 4\"})\n",
    "\n",
    "    visualizer.fit(X_train, y_train)        \n",
    "    visualizer.score(X_test, y_test)        \n",
    "    visualizer.show()                       \n",
    "    #print(\"-----------------------------------------------------\\n\")'''\n",
    "    \n",
    "    return results_dict_aux"
   ]
  },
  {
   "cell_type": "markdown",
   "id": "0e1fa7c0",
   "metadata": {},
   "source": [
    "## Grid Search\n",
    "\n",
    "Para cada modelo é implementada uma função do grid search. Para ser aplicada em cada um dos 10 conjuntos de treino do 10-fold."
   ]
  },
  {
   "cell_type": "code",
   "execution_count": 91,
   "id": "7b2d950c",
   "metadata": {},
   "outputs": [],
   "source": [
    "def grid_search(model, param_grid, X, y):    \n",
    "    # defining parameter range\n",
    "    grid = GridSearchCV(model, param_grid, cv=3, scoring='accuracy', n_jobs=-1)\n",
    "    # fitting the model for grid search\n",
    "    return grid.fit(X, y)"
   ]
  },
  {
   "cell_type": "markdown",
   "id": "afd15fef",
   "metadata": {},
   "source": [
    "**KNN**"
   ]
  },
  {
   "cell_type": "code",
   "execution_count": 92,
   "id": "990c33cd",
   "metadata": {},
   "outputs": [],
   "source": [
    "def kNN_grid_search(X_train, y_train):\n",
    "    #lista com números impares para o número de vizinhos do knn\n",
    "    k_range = [impar for impar in range(1,32) if (impar%2)!=0]\n",
    "    #listas com formas de considerar a ditância do vizinho\n",
    "    weights = ['uniform', 'distance']\n",
    "    #lista com formas de calcular as distâncias\n",
    "    dist = ['euclidian','manhattan','chebyshev']\n",
    "    #dicionário com parêmetros para o gridsearch\n",
    "    param_grid = {\n",
    "        'n_neighbors': k_range,\n",
    "        'weights': weights,\n",
    "        'metric': dist\n",
    "    }\n",
    "    # defining parameter range\n",
    "    grid = grid_search(knn(), param_grid, X_train, y_train)\n",
    "\n",
    "    #utilizando melhores parâmetros calculados pelo gridsearch\n",
    "    k = grid.best_params_['n_neighbors']\n",
    "    w = grid.best_params_['weights']\n",
    "    m = grid.best_params_['metric']\n",
    "\n",
    "    '''\n",
    "    print(\"KNN\")\n",
    "    print(f\"Melhores parâmetros - k:{k}, w:{w}, m:{m}\")\n",
    "    print(f\"Accuracy: %.6f\" %(grid.best_score_))\n",
    "    print(\"------------------------------------------------\")\n",
    "    '''\n",
    "\n",
    "    return (k,w,m)"
   ]
  },
  {
   "cell_type": "markdown",
   "id": "d1db3ba7",
   "metadata": {},
   "source": [
    "**Decision Tree**"
   ]
  },
  {
   "cell_type": "code",
   "execution_count": 97,
   "id": "27dcc98c",
   "metadata": {},
   "outputs": [],
   "source": [
    "def dt_grid_search(X_train, y_train):\n",
    "    #\n",
    "    max_depth_range = [x for x in range(1,32)]\n",
    "    #listas com formas de medir a qualidade do 'split'\n",
    "    criterion_list = ['gini', 'entropy']\n",
    "    #dicionário com parêmetros para o gridsearch\n",
    "    param_grid = {\n",
    "        'max_depth': max_depth_range,\n",
    "        'criterion': criterion_list,\n",
    "    }\n",
    "    # defining parameter range\n",
    "    grid = grid_search(DecisionTreeClassifier(), param_grid, X_train, y_train)\n",
    "\n",
    "    #utilizando melhores parâmetros calculados pelo gridsearch\n",
    "    md = grid.best_params_['max_depth']\n",
    "    c = grid.best_params_['criterion']\n",
    "\n",
    "    '''\n",
    "    print(\"DT\")\n",
    "    print(f\"Melhores parâmetros - md:{md}, c:{c}\")\n",
    "    print(f\"Accuracy: %.6f\" %(grid.best_score_))\n",
    "    print(\"------------------------------------------------\")\n",
    "    '''\n",
    "\n",
    "    return (md,c)"
   ]
  },
  {
   "cell_type": "markdown",
   "id": "53fce1a4",
   "metadata": {},
   "source": [
    "**MLP**"
   ]
  },
  {
   "cell_type": "code",
   "execution_count": 105,
   "id": "626c1495",
   "metadata": {},
   "outputs": [],
   "source": [
    "def mlp_grid_search(X_train, y_train):\n",
    "    # lista com o número de camadas\n",
    "    hidden_layer_sizes_list = [(100,), (50, 15, 5), (100, 25, 10)]\n",
    "    # listas das taxas de aprendizado inicial\n",
    "    learning_rate_init_list = [0.05, 0.0001]\n",
    "    # lista de estratégias\n",
    "    solver_list = ['sgd', 'adam']\n",
    "    # lista das funções de ativações\n",
    "    activation_list = ['tanh', 'relu']\n",
    "    # lista da forma da taxa de aprendizado\n",
    "    learning_rate_lsit = ['constant', 'adaptive']\n",
    "    # dicionário com parêmetros para o gridsearch\n",
    "    param_grid = {\n",
    "        'hidden_layer_sizes': hidden_layer_sizes_list,\n",
    "        'activation': activation_list,\n",
    "        'solver': solver_list,\n",
    "        'learning_rate': learning_rate_lsit,\n",
    "        'learning_rate_init': learning_rate_init_list,\n",
    "    }\n",
    "    # defining parameter range\n",
    "    grid = grid_search(MLPClassifier(), param_grid, X_train, y_train)\n",
    "\n",
    "    # utilizando melhores parâmetros calculados pelo gridsearch\n",
    "    hls = grid.best_params_['hidden_layer_sizes']\n",
    "    a = grid.best_params_['activation']\n",
    "    s = grid.best_params_['solver']\n",
    "    lr = grid.best_params_['learning_rate']\n",
    "    lri = grid.best_params_['learning_rate_init']\n",
    "    '''\n",
    "    print(\"MLP\")\n",
    "    print(f\"Melhores parâmetros - hls:{hls}, a:{a}, s:{s}, lr:{lr}, lri:{lri}\")\n",
    "    print(f\"Accuracy: %.6f\" %(grid.best_score_))\n",
    "    print(\"------------------------------------------------\")\n",
    "    '''\n",
    "    return (hls, a, s, lr, lri)"
   ]
  },
  {
   "cell_type": "markdown",
   "id": "4db79b59",
   "metadata": {},
   "source": [
    "**SVM**"
   ]
  },
  {
   "cell_type": "code",
   "execution_count": 104,
   "id": "44d989d6",
   "metadata": {},
   "outputs": [],
   "source": [
    "def svm_grid_search(X_train, y_train):\n",
    "    #\n",
    "    C_list = [0.1, 1, 10, 100]\n",
    "    kernel_list = ['rbf','sigmoid'] #['linear', 'poly', 'rbf', 'sigmoid']\n",
    "    gamma_list = [1, 0.1, 0.01, 0.001]\n",
    "    #dicionário com parêmetros para o gridsearch\n",
    "    param_grid = {\n",
    "        'C': C_list,\n",
    "        'kernel': kernel_list,\n",
    "        'gamma': gamma_list\n",
    "    }\n",
    "    # defining parameter range\n",
    "    grid = grid_search(SVC(), param_grid, X_train, y_train)\n",
    "\n",
    "    #utilizando melhores parâmetros calculados pelo gridsearch\n",
    "    c = grid.best_params_['C']\n",
    "    k = grid.best_params_['kernel']\n",
    "    g = grid.best_params_['gamma']\n",
    "\n",
    "    '''\n",
    "    print(\"SVM\")\n",
    "    print(f\"Melhores parâmetros - C:{c}, k:{k}\\n, g:{g}\")\n",
    "    print(f\"Accuracy: %.6f\" %(grid.best_score_))\n",
    "    print(\"------------------------------------------------\")\n",
    "    '''\n",
    "\n",
    "    return (c,k,g)"
   ]
  },
  {
   "cell_type": "markdown",
   "id": "1ced7f3c",
   "metadata": {},
   "source": [
    "## Hold-out\n",
    "\n",
    "Antes de realizar o 10-Fold os dados serão separados em treino e teste através do método **hold-out**. O data set de treino será utilizado para validar os modelos e escolher os melhores parâmetros com o **10-fold** para então comparar o modelos com o data set de teste."
   ]
  },
  {
   "cell_type": "code",
   "execution_count": 21,
   "id": "09a37e51",
   "metadata": {},
   "outputs": [],
   "source": [
    "X_train, X_test, y_train, y_test = train_test_split(X, y, test_size=0.3, random_state=199, stratify=y)"
   ]
  },
  {
   "cell_type": "markdown",
   "id": "8b6c3650",
   "metadata": {},
   "source": [
    "## 10-Fold\n",
    "\n",
    "Com esse método são criados 10 datasets de treino e 10 datasets de test com uma divisão de 90% para treino e 10% para teste em cada divisão.\n",
    "\n",
    "O conjunto de treino sera divido mais uma vez em treino e validação (isso é feito dendo da função `GridSearchCV` para que então seja aplicado o GridSearch e assim obtenha-se os melhores parâmetros. Por fim, tendo os melhores parâmetros, utiliza-se o conjunto de teste para que se possa avaliar os resultados.\n",
    "\n",
    "Esses resultados são obtidos de cada fold e então se tira a média deles para obter-se a avaliação final de cada modelo."
   ]
  },
  {
   "cell_type": "code",
   "execution_count": 142,
   "id": "6f954d1d",
   "metadata": {},
   "outputs": [],
   "source": [
    "def print_best_results(best_k, best_weight, best_metric, best_max_depth, best_criterion, best_hidden_layers, best_activation, best_solver, best_learn_rate, best_learn_rate_i, best_c, best_kernel, best_gamma):\n",
    "    print(f\"Best KNN parameters: k:{best_k} m:{best_weight} w:{best_metric}\")\n",
    "    print(f\"Best DT parameters: md:{best_max_depth} c:{best_criterion}\")\n",
    "    print(f\"Best MLP parameters: hls:{best_hidden_layers} a:{best_activation} s:{best_solver} lr:{best_learn_rate} lri:{best_learn_rate_i}\")\n",
    "    print(f\"Best SVM parameters: c:{best_c} k:{best_kernel} g:{best_gamma}\")\n",
    "    print(\"--------------------------------------------------------------------------\")"
   ]
  },
  {
   "cell_type": "code",
   "execution_count": 143,
   "id": "2566fbf1",
   "metadata": {},
   "outputs": [],
   "source": [
    "def print_mean_result(model_key, accuracies, f1, auc, conf_matrix):\n",
    "    print(f\"\\t{model_key}\")\n",
    "    print(\"Acurácia média (desvio): %.6f +- (%.6f)\" %(accuracies.mean(), accuracies.std()))\n",
    "    print(\"F1-score média (desvio): %.6f +- (%.6f)\" %(f1.mean(), f1.std()))\n",
    "    print(\"AUC média (desvio): %.6f +- (%.6f)\\n\" %(auc.mean(), auc.std()))\n",
    "    print(f\"Matriz de Confusão:  \\n{sum(conf_matrix)*0.1}\")"
   ]
  },
  {
   "cell_type": "code",
   "execution_count": 146,
   "id": "ac1b239d",
   "metadata": {},
   "outputs": [],
   "source": [
    "#função que roda os modelos em cada uma das divisões do 10-fold\n",
    "#e imprime a média e o desvio padrão dos resultados\n",
    "\n",
    "def evaluate_model_with_kfold(kf):\n",
    "    results_dict_models = {}\n",
    "    # listas e dicionarios para salvar as métricas dos resultados de todas as interacoes\n",
    "    \n",
    "    results_dict_KNN = {\n",
    "        'accuracy': [],\n",
    "        'f1': [],\n",
    "        'auc': [],\n",
    "        'cm': []\n",
    "    }\n",
    "    results_dict_DT = {\n",
    "        'accuracy': [],\n",
    "        'f1': [],\n",
    "        'auc': [],\n",
    "        'cm': []\n",
    "    }\n",
    "    results_dict_MLP = {\n",
    "        'accuracy': [],\n",
    "        'f1': [],\n",
    "        'auc': [],\n",
    "        'cm': []\n",
    "    }\n",
    "    results_dict_SVM = {\n",
    "        'accuracy': [],\n",
    "        'f1': [],\n",
    "        'auc': [],\n",
    "        'cm': []\n",
    "    }\n",
    "    results_dict_GNB = {\n",
    "        'accuracy': [],\n",
    "        'f1': [],\n",
    "        'auc': [],\n",
    "        'cm': []\n",
    "    }\n",
    "    \n",
    "    # váriável para salvar os melhores parâmetros\n",
    "    best = 0.0\n",
    "    # knn\n",
    "    best_k, best_weight, best_metric = 5, 'uniform', 'minkowski' #padrão\n",
    "    # dt\n",
    "    best_max_depth, best_criterion = None, 'gini' #padrão\n",
    "    #mlp\n",
    "    best_hidden_layers, best_activation, best_solver, best_learn_rate, best_learn_rate_i = (100,), 'relu', 'adam', 'constant', 0.001 #padrão\n",
    "    #svm\n",
    "    best_c, best_kernel, best_gamma = 1.0, 'rbf', 'scale' #padrão\n",
    "    \n",
    "    # laço que roda todos os modelos em cada 1-fold\n",
    "    for train, test in kf.split(X_train.iloc[:100], y_train.iloc[:100]):\n",
    "        X_train_kf, y_train_kf, X_test_kf, y_test_kf = X_train.iloc[train], y_train.iloc[train], X_train.iloc[test], y_train.iloc[test]        \n",
    "        \n",
    "        #kNN\n",
    "        k,w,m = kNN_grid_search(X_train_kf, y_train_kf)\n",
    "        model = knn(n_neighbors=k, weights=w, metric=m)\n",
    "        results_dict_KNN = model_results(model, X_train_kf, y_train_kf, X_test_kf, y_test_kf, results_dict_KNN)\n",
    "        #verifica se os parêmetros do fold atual são os melhores\n",
    "        if (results_dict_KNN['accuracy'][-1] > best): \n",
    "            best = results_dict_KNN['accuracy'][-1]\n",
    "            best_k, best_weight, best_metric = k, w, m \n",
    "        \n",
    "        #DT\n",
    "        md,c = dt_grid_search(X_train_kf, y_train_kf)\n",
    "        model = DecisionTreeClassifier(max_depth=md, criterion=c, random_state=199)\n",
    "        results_dict_DT = model_results(model, X_train_kf, y_train_kf, X_test_kf, y_test_kf, results_dict_DT)\n",
    "        #verifica se os parêmetros do fold atual são os melhores\n",
    "        if (results_dict_DT['accuracy'][-1] > best): \n",
    "            best = results_dict_DT['accuracy'][-1]\n",
    "            best_max_depth, best_criterion = md, c\n",
    "        \n",
    "        \n",
    "        #MLP \n",
    "        hls, a, s, lr, lri = mlp_grid_search(X_train_kf,y_train_kf)\n",
    "        model = MLPClassifier(\n",
    "            hidden_layer_sizes=hls, \n",
    "            activation=a, \n",
    "            solver=s, \n",
    "            learning_rate=lr, \n",
    "            learning_rate_init=lri, \n",
    "            max_iter=2000, \n",
    "            tol=0.000001,\n",
    "            random_state=199\n",
    "        )\n",
    "        results_dict_MLP = model_results(model, X_train_kf, y_train_kf, X_test_kf, y_test_kf, results_dict_MLP)\n",
    "        #verifica se os parêmetros do fold atual são os melhores\n",
    "        if (results_dict_MLP['accuracy'][-1] > best): \n",
    "            best = results_dict_MLP['accuracy'][-1]\n",
    "            best_hidden_layers, best_activation, best_solver, best_learn_rate, best_learn_rate_i = hls, a, s, lr, lri\n",
    "        \n",
    "        #GNB \n",
    "        model = GaussianNB()\n",
    "        results_dict_models['GNB'] = model_results(model, X_train_kf, y_train_kf, X_test_kf, y_test_kf, results_dict_GNB)\n",
    "        \n",
    "        #SVM\n",
    "        c, k, g = svm_grid_search(X_train_kf, y_train_kf)\n",
    "        model = SVC(C=c, kernel=k, gamma=g, probability=True, random_state=199)\n",
    "        results_dict_SVM = model_results(model, X_train_kf, y_train_kf, X_test_kf, y_test_kf, results_dict_SVM)\n",
    "        #verifica se os parêmetros do fold atual são os melhores\n",
    "        if (results_dict_SVM['accuracy'][-1] > best): \n",
    "            best = results_dict_SVM['accuracy'][-1]\n",
    "            best_c, best_kernel, best_gamma = c, k, g\n",
    "        \n",
    "        \n",
    "    results_dict_models['KNN'] = results_dict_KNN\n",
    "    results_dict_models['DT'] = results_dict_DT\n",
    "    results_dict_models['MLP'] = results_dict_MLP\n",
    "    results_dict_models['GNB'] = results_dict_GNB\n",
    "    results_dict_models['SVM'] = results_dict_SVM\n",
    "    \n",
    "    # a cada interação calcula a média e o desvio padrão da \n",
    "    # acurácia, f1-score, auc-scor e matriz de confusão de cada modelo\n",
    "    for model_key in results_dict_models.keys():\n",
    "        accuracies = np.array(results_dict_models[model_key]['accuracy'])\n",
    "        f1 = np.array(results_dict_models[model_key]['f1'])\n",
    "        auc = np.array(results_dict_models[model_key]['auc'])\n",
    "        conf_matrix = np.array(results_dict_models[model_key]['cm'])\n",
    "\n",
    "        print_mean_result(model_key, accuracies, f1, auc, conf_matrix)\n",
    "\n",
    "    # imprime os melhores parâmetros\n",
    "    print_best_results(best_k, best_weight, best_metric, best_max_depth, best_criterion, best_hidden_layers, best_activation, best_solver, best_learn_rate, best_learn_rate_i, best_c, best_kernel, best_gamma)\n",
    "    \n",
    "    # salva os melhores parâmetros em um dicionário que é o retorno da função\n",
    "    parameters_dict = {\n",
    "        'knn': (best_k, best_weight, best_metric),\n",
    "        'dt': (best_max_depth, best_criterion),\n",
    "        'mlp': (best_hidden_layers, best_activation, best_solver, best_learn_rate, best_learn_rate_i),\n",
    "        'svm': (best_c, best_kernel, best_gamma)\n",
    "    }\n",
    "    \n",
    "    return parameters_dict"
   ]
  },
  {
   "cell_type": "code",
   "execution_count": 23,
   "id": "7a49a09a",
   "metadata": {},
   "outputs": [],
   "source": [
    "import warnings"
   ]
  },
  {
   "cell_type": "code",
   "execution_count": 147,
   "id": "c1d9f383",
   "metadata": {
    "scrolled": false
   },
   "outputs": [
    {
     "name": "stdout",
     "output_type": "stream",
     "text": [
      "\tGNB\n",
      "Acurácia média (desvio): 0.300000 +- (0.100000)\n",
      "F1-score média (desvio): 0.284310 +- (0.112833)\n",
      "AUC média (desvio): 0.552778 +- (0.080469)\n",
      "\n",
      "Matriz de Confusão:  \n",
      "[[0.8 0.8 0.6 0.5]\n",
      " [0.9 0.7 0.4 0.3]\n",
      " [0.4 0.4 1.1 0.7]\n",
      " [0.4 0.3 1.3 0.4]]\n",
      "\tKNN\n",
      "Acurácia média (desvio): 0.230000 +- (0.148661)\n",
      "F1-score média (desvio): 0.195333 +- (0.141255)\n",
      "AUC média (desvio): 0.525694 +- (0.122300)\n",
      "\n",
      "Matriz de Confusão:  \n",
      "[[0.7 1.1 0.4 0.5]\n",
      " [1.1 0.4 0.8 0. ]\n",
      " [0.8 0.2 1.  0.6]\n",
      " [0.6 0.3 1.3 0.2]]\n",
      "\tDT\n",
      "Acurácia média (desvio): 0.250000 +- (0.120416)\n",
      "F1-score média (desvio): 0.234238 +- (0.116243)\n",
      "AUC média (desvio): 0.498611 +- (0.083726)\n",
      "\n",
      "Matriz de Confusão:  \n",
      "[[0.6 0.8 0.9 0.4]\n",
      " [0.7 0.7 0.5 0.4]\n",
      " [0.3 0.8 0.8 0.7]\n",
      " [0.6 0.6 0.8 0.4]]\n",
      "\tMLP\n",
      "Acurácia média (desvio): 0.250000 +- (0.168819)\n",
      "F1-score média (desvio): 0.223016 +- (0.174109)\n",
      "AUC média (desvio): 0.550000 +- (0.132765)\n",
      "\n",
      "Matriz de Confusão:  \n",
      "[[1.  0.3 0.8 0.6]\n",
      " [0.9 0.4 0.6 0.4]\n",
      " [0.6 0.4 0.4 1.2]\n",
      " [0.6 0.  1.1 0.7]]\n",
      "\tSVM\n",
      "Acurácia média (desvio): 0.230000 +- (0.045826)\n",
      "F1-score média (desvio): 0.088205 +- (0.032901)\n",
      "AUC média (desvio): 0.500000 +- (0.000000)\n",
      "\n",
      "Matriz de Confusão:  \n",
      "[[1.5 0.  1.2 0. ]\n",
      " [1.5 0.  0.8 0. ]\n",
      " [1.8 0.  0.8 0. ]\n",
      " [1.2 0.  1.2 0. ]]\n",
      "Best KNN parameters: k:17 m:uniform w:chebyshev\n",
      "Best DT parameters: md:None c:gini\n",
      "Best MLP parameters: hls:(100,) a:tanh s:sgd lr:adaptive lri:0.05\n",
      "Best SVM parameters: c:1.0 k:rbf g:scale\n",
      "--------------------------------------------------------------------------\n",
      "Wall time: 1min 11s\n"
     ]
    }
   ],
   "source": [
    "%%time\n",
    "#ignorando warnings\n",
    "warnings.filterwarnings('ignore')\n",
    "\n",
    "params_dict = {}\n",
    "\n",
    "skf = StratifiedKFold(n_splits=10, shuffle=True, random_state=199)\n",
    "params_dict = evaluate_model_with_kfold(skf)"
   ]
  },
  {
   "cell_type": "markdown",
   "id": "1388b0d6",
   "metadata": {},
   "source": [
    "## Teste\n",
    "\n",
    "Aqui os modelos são execultados no dataset de teste com seus melhores parâmetros."
   ]
  },
  {
   "cell_type": "code",
   "execution_count": 148,
   "id": "443a0783",
   "metadata": {},
   "outputs": [],
   "source": [
    "def model_test_results(model, X_train, y_train, X_test, y_test):\n",
    "    \n",
    "    model.fit(X_train, y_train)\n",
    "    y_pred = model.predict(X_test)\n",
    "\n",
    "    #medindo e armazenando acurácia, f1-score e auc-score no dicionário\n",
    "    accuracy = model.score(X_test, y_test)\n",
    "    f1 = f1_score(y_test, y_pred, average='weighted')\n",
    "    AUC = roc_auc_score(y_test, model.predict_proba(X_test), average='weighted', multi_class='ovo')\n",
    "    CM = confusion_matrix(y_test, y_pred)\n",
    "    \n",
    "    print(f\"Accuracy: %.6f\" %(accuracy))\n",
    "    print(f\"f1: %.6f\" %(f1))\n",
    "    print(f\"AUC: %.6f\" %(AUC))\n",
    "    print(f\"CM: \\n{CM} \\n\")"
   ]
  },
  {
   "cell_type": "markdown",
   "id": "d7671774",
   "metadata": {},
   "source": [
    "**KNN**"
   ]
  },
  {
   "cell_type": "code",
   "execution_count": 149,
   "id": "68cac40b",
   "metadata": {},
   "outputs": [],
   "source": [
    "best_k, best_weight, best_metric = params_dict['knn']"
   ]
  },
  {
   "cell_type": "code",
   "execution_count": 150,
   "id": "bfdae165",
   "metadata": {},
   "outputs": [
    {
     "name": "stdout",
     "output_type": "stream",
     "text": [
      "Accuracy: 0.250602\n",
      "f1: 0.249453\n",
      "AUC: 0.490444\n",
      "CM: \n",
      "[[27 24 21 29]\n",
      " [25 16 24 34]\n",
      " [24 30 29 24]\n",
      " [40 15 21 32]] \n",
      "\n"
     ]
    }
   ],
   "source": [
    "model = knn(n_neighbors=best_k, weights=best_weight, metric=best_metric)\n",
    "model_test_results(model, X_train, y_train, X_test, y_test)"
   ]
  },
  {
   "cell_type": "markdown",
   "id": "4cb04052",
   "metadata": {},
   "source": [
    "**DT**"
   ]
  },
  {
   "cell_type": "code",
   "execution_count": 151,
   "id": "14fb64c0",
   "metadata": {},
   "outputs": [],
   "source": [
    "best_max_depth, best_criterion = params_dict['dt']"
   ]
  },
  {
   "cell_type": "code",
   "execution_count": 152,
   "id": "67969391",
   "metadata": {},
   "outputs": [
    {
     "name": "stdout",
     "output_type": "stream",
     "text": [
      "Accuracy: 0.243373\n",
      "f1: 0.242814\n",
      "AUC: 0.494661\n",
      "CM: \n",
      "[[18 31 22 30]\n",
      " [25 19 23 32]\n",
      " [22 24 32 29]\n",
      " [33 20 23 32]] \n",
      "\n"
     ]
    }
   ],
   "source": [
    "model = DecisionTreeClassifier(max_depth=best_max_depth, criterion=best_criterion, random_state=199)\n",
    "model_test_results(model, X_train, y_train, X_test, y_test)"
   ]
  },
  {
   "cell_type": "markdown",
   "id": "fd43bdec",
   "metadata": {},
   "source": [
    "**MLP**"
   ]
  },
  {
   "cell_type": "code",
   "execution_count": 153,
   "id": "92a3fef9",
   "metadata": {},
   "outputs": [],
   "source": [
    "best_hidden_layers, best_activation, best_solver, best_learn_rate, best_learn_rate_i = params_dict['mlp']"
   ]
  },
  {
   "cell_type": "code",
   "execution_count": 154,
   "id": "3583e806",
   "metadata": {},
   "outputs": [
    {
     "name": "stdout",
     "output_type": "stream",
     "text": [
      "Accuracy: 0.265060\n",
      "f1: 0.263031\n",
      "AUC: 0.494977\n",
      "CM: \n",
      "[[27 23 22 29]\n",
      " [24 20 27 28]\n",
      " [30 18 26 33]\n",
      " [33 17 21 37]] \n",
      "\n"
     ]
    }
   ],
   "source": [
    "model = MLPClassifier(\n",
    "            hidden_layer_sizes=best_hidden_layers, \n",
    "            activation=best_activation, \n",
    "            solver=best_solver, \n",
    "            learning_rate=best_learn_rate, \n",
    "            learning_rate_init=best_learn_rate_i, \n",
    "            max_iter=2000, \n",
    "            tol=0.000001,\n",
    "            random_state=199\n",
    "        )\n",
    "model_test_results(model, X_train, y_train, X_test, y_test)"
   ]
  },
  {
   "cell_type": "markdown",
   "id": "f06c4997",
   "metadata": {},
   "source": [
    "**GNB**"
   ]
  },
  {
   "cell_type": "code",
   "execution_count": 155,
   "id": "aedcc720",
   "metadata": {},
   "outputs": [
    {
     "name": "stdout",
     "output_type": "stream",
     "text": [
      "Accuracy: 0.269880\n",
      "f1: 0.268598\n",
      "AUC: 0.470611\n",
      "CM: \n",
      "[[20 20 21 40]\n",
      " [17 27 20 35]\n",
      " [20 20 29 38]\n",
      " [23 18 31 36]] \n",
      "\n"
     ]
    }
   ],
   "source": [
    "model = GaussianNB()\n",
    "model_test_results(model, X_train, y_train, X_test, y_test)"
   ]
  },
  {
   "cell_type": "markdown",
   "id": "dc2f7971",
   "metadata": {},
   "source": [
    "**SVM**"
   ]
  },
  {
   "cell_type": "code",
   "execution_count": 156,
   "id": "04099c55",
   "metadata": {},
   "outputs": [],
   "source": [
    "best_c, best_kernel, best_gamma = params_dict['svm']"
   ]
  },
  {
   "cell_type": "code",
   "execution_count": 157,
   "id": "adf716f2",
   "metadata": {},
   "outputs": [
    {
     "name": "stdout",
     "output_type": "stream",
     "text": [
      "Accuracy: 0.269880\n",
      "f1: 0.199224\n",
      "AUC: 0.513747\n",
      "CM: \n",
      "[[ 0  0 39 62]\n",
      " [ 0  5 33 61]\n",
      " [ 0  3 43 61]\n",
      " [ 0  0 44 64]] \n",
      "\n"
     ]
    }
   ],
   "source": [
    "model = SVC(C=best_c, kernel=best_kernel, gamma=best_gamma, probability=True, random_state=199)\n",
    "model_test_results(model, X_train, y_train, X_test, y_test)"
   ]
  }
 ],
 "metadata": {
  "kernelspec": {
   "display_name": "Python 3 (ipykernel)",
   "language": "python",
   "name": "python3"
  },
  "language_info": {
   "codemirror_mode": {
    "name": "ipython",
    "version": 3
   },
   "file_extension": ".py",
   "mimetype": "text/x-python",
   "name": "python",
   "nbconvert_exporter": "python",
   "pygments_lexer": "ipython3",
   "version": "3.9.5"
  }
 },
 "nbformat": 4,
 "nbformat_minor": 5
}
