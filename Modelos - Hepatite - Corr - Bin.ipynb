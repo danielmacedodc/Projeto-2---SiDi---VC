{
 "cells": [
  {
   "cell_type": "markdown",
   "id": "9533c8ce",
   "metadata": {},
   "source": [
    "# Modelos de Classificação - Hepatite"
   ]
  },
  {
   "cell_type": "code",
   "execution_count": 1,
   "id": "976d1b43",
   "metadata": {},
   "outputs": [],
   "source": [
    "# Bibliotecas de manipualção e visualização de dados\n",
    "import pandas as pd\n",
    "import numpy as np\n",
    "import matplotlib.pyplot as plt\n",
    "#from mlxtend.plotting import plot_decision_regions\n",
    "from sklearn.preprocessing import StandardScaler\n",
    "import seaborn as sns\n",
    "\n",
    "# Classes dos modelo\n",
    "from sklearn.model_selection import StratifiedKFold\n",
    "from sklearn.linear_model import LogisticRegression, LinearRegression\n",
    "from sklearn.model_selection import KFold\n",
    "from sklearn.neighbors import KNeighborsClassifier as knn\n",
    "from sklearn.naive_bayes import GaussianNB, BernoulliNB\n",
    "from sklearn.neural_network import MLPClassifier\n",
    "from sklearn.svm import SVC\n",
    "from sklearn.tree import DecisionTreeClassifier\n",
    "from mord import LogisticAT\n",
    "from xgboost import XGBClassifier\n",
    "\n",
    "# Essemble\n",
    "from sklearn.ensemble import RandomForestClassifier\n",
    "from sklearn.ensemble import GradientBoostingClassifier\n",
    "from sklearn.ensemble import AdaBoostClassifier\n",
    "\n",
    "# Funções de avaliação dos modelos\n",
    "from sklearn.metrics import classification_report, accuracy_score, f1_score, roc_auc_score, plot_confusion_matrix, confusion_matrix\n",
    "from sklearn.model_selection import train_test_split\n",
    "from sklearn.model_selection import GridSearchCV, RandomizedSearchCV\n",
    "from yellowbrick.classifier import ROCAUC\n",
    "\n",
    "#SMOTE\n",
    "from imblearn.over_sampling import SMOTE\n",
    "\n",
    "#PerC\n",
    "from perc.src.data.build_dataset import build, normalize\n",
    "from perc.src.model.classification.perturbation import PerC_Mean, PerC_Covariance, PerC\n",
    "\n",
    "# Seleção de Features e redução de dimencionalidade\n",
    "from sklearn.feature_selection import VarianceThreshold\n",
    "from sklearn.feature_selection import SelectKBest\n",
    "from sklearn.feature_selection import f_classif\n",
    "from sklearn.feature_selection import SelectFromModel\n",
    "from sklearn.feature_selection import RFE\n",
    "from sklearn.decomposition import PCA"
   ]
  },
  {
   "cell_type": "code",
   "execution_count": 2,
   "id": "f1144b30",
   "metadata": {},
   "outputs": [],
   "source": [
    "# dataset sem outliers\n",
    "df_hepatite = pd.read_csv('HCV-Data.csv')"
   ]
  },
  {
   "cell_type": "code",
   "execution_count": 3,
   "id": "8cb0768c",
   "metadata": {},
   "outputs": [
    {
     "data": {
      "text/html": [
       "<div>\n",
       "<style scoped>\n",
       "    .dataframe tbody tr th:only-of-type {\n",
       "        vertical-align: middle;\n",
       "    }\n",
       "\n",
       "    .dataframe tbody tr th {\n",
       "        vertical-align: top;\n",
       "    }\n",
       "\n",
       "    .dataframe thead th {\n",
       "        text-align: right;\n",
       "    }\n",
       "</style>\n",
       "<table border=\"1\" class=\"dataframe\">\n",
       "  <thead>\n",
       "    <tr style=\"text-align: right;\">\n",
       "      <th></th>\n",
       "      <th>Unnamed: 0</th>\n",
       "      <th>Age</th>\n",
       "      <th>ALB</th>\n",
       "      <th>ALP</th>\n",
       "      <th>ALT</th>\n",
       "      <th>AST</th>\n",
       "      <th>BIL</th>\n",
       "      <th>CHE</th>\n",
       "      <th>CHOL</th>\n",
       "      <th>CREA</th>\n",
       "      <th>GGT</th>\n",
       "      <th>PROT</th>\n",
       "      <th>M</th>\n",
       "      <th>F</th>\n",
       "      <th>Category</th>\n",
       "    </tr>\n",
       "  </thead>\n",
       "  <tbody>\n",
       "    <tr>\n",
       "      <th>0</th>\n",
       "      <td>0</td>\n",
       "      <td>-1.531488</td>\n",
       "      <td>-0.614892</td>\n",
       "      <td>-0.613672</td>\n",
       "      <td>-0.938676</td>\n",
       "      <td>-0.376413</td>\n",
       "      <td>-0.201172</td>\n",
       "      <td>-0.588422</td>\n",
       "      <td>-1.935993</td>\n",
       "      <td>0.492894</td>\n",
       "      <td>-0.503635</td>\n",
       "      <td>-0.660649</td>\n",
       "      <td>1.0</td>\n",
       "      <td>0.0</td>\n",
       "      <td>0</td>\n",
       "    </tr>\n",
       "    <tr>\n",
       "      <th>1</th>\n",
       "      <td>1</td>\n",
       "      <td>-1.531488</td>\n",
       "      <td>-0.614892</td>\n",
       "      <td>0.101811</td>\n",
       "      <td>-0.452676</td>\n",
       "      <td>-0.296648</td>\n",
       "      <td>-0.383411</td>\n",
       "      <td>1.368547</td>\n",
       "      <td>-0.520644</td>\n",
       "      <td>-0.151232</td>\n",
       "      <td>-0.436211</td>\n",
       "      <td>0.862461</td>\n",
       "      <td>1.0</td>\n",
       "      <td>0.0</td>\n",
       "      <td>0</td>\n",
       "    </tr>\n",
       "    <tr>\n",
       "      <th>2</th>\n",
       "      <td>2</td>\n",
       "      <td>-1.531488</td>\n",
       "      <td>0.941291</td>\n",
       "      <td>0.278672</td>\n",
       "      <td>0.406081</td>\n",
       "      <td>0.559296</td>\n",
       "      <td>-0.272043</td>\n",
       "      <td>0.293137</td>\n",
       "      <td>-0.160045</td>\n",
       "      <td>0.090315</td>\n",
       "      <td>-0.097166</td>\n",
       "      <td>1.431089</td>\n",
       "      <td>1.0</td>\n",
       "      <td>0.0</td>\n",
       "      <td>0</td>\n",
       "    </tr>\n",
       "    <tr>\n",
       "      <th>3</th>\n",
       "      <td>3</td>\n",
       "      <td>-1.531488</td>\n",
       "      <td>0.255829</td>\n",
       "      <td>-0.633770</td>\n",
       "      <td>0.141848</td>\n",
       "      <td>-0.361073</td>\n",
       "      <td>0.375918</td>\n",
       "      <td>-0.403803</td>\n",
       "      <td>-0.574734</td>\n",
       "      <td>-0.030458</td>\n",
       "      <td>-0.085607</td>\n",
       "      <td>0.699996</td>\n",
       "      <td>1.0</td>\n",
       "      <td>0.0</td>\n",
       "      <td>0</td>\n",
       "    </tr>\n",
       "    <tr>\n",
       "      <th>4</th>\n",
       "      <td>4</td>\n",
       "      <td>-1.531488</td>\n",
       "      <td>-0.485210</td>\n",
       "      <td>0.254555</td>\n",
       "      <td>0.236217</td>\n",
       "      <td>-0.293580</td>\n",
       "      <td>-0.094866</td>\n",
       "      <td>0.436217</td>\n",
       "      <td>-0.953362</td>\n",
       "      <td>-0.110974</td>\n",
       "      <td>-0.160737</td>\n",
       "      <td>-0.721574</td>\n",
       "      <td>1.0</td>\n",
       "      <td>0.0</td>\n",
       "      <td>0</td>\n",
       "    </tr>\n",
       "  </tbody>\n",
       "</table>\n",
       "</div>"
      ],
      "text/plain": [
       "   Unnamed: 0       Age       ALB       ALP       ALT       AST       BIL  \\\n",
       "0           0 -1.531488 -0.614892 -0.613672 -0.938676 -0.376413 -0.201172   \n",
       "1           1 -1.531488 -0.614892  0.101811 -0.452676 -0.296648 -0.383411   \n",
       "2           2 -1.531488  0.941291  0.278672  0.406081  0.559296 -0.272043   \n",
       "3           3 -1.531488  0.255829 -0.633770  0.141848 -0.361073  0.375918   \n",
       "4           4 -1.531488 -0.485210  0.254555  0.236217 -0.293580 -0.094866   \n",
       "\n",
       "        CHE      CHOL      CREA       GGT      PROT    M    F  Category  \n",
       "0 -0.588422 -1.935993  0.492894 -0.503635 -0.660649  1.0  0.0         0  \n",
       "1  1.368547 -0.520644 -0.151232 -0.436211  0.862461  1.0  0.0         0  \n",
       "2  0.293137 -0.160045  0.090315 -0.097166  1.431089  1.0  0.0         0  \n",
       "3 -0.403803 -0.574734 -0.030458 -0.085607  0.699996  1.0  0.0         0  \n",
       "4  0.436217 -0.953362 -0.110974 -0.160737 -0.721574  1.0  0.0         0  "
      ]
     },
     "execution_count": 3,
     "metadata": {},
     "output_type": "execute_result"
    }
   ],
   "source": [
    "df_hepatite.head()"
   ]
  },
  {
   "cell_type": "markdown",
   "id": "c31fde9e",
   "metadata": {},
   "source": [
    "Ao exportar o dataset sem outliers surgiu a coluna `Unnamed: 0` que será removida."
   ]
  },
  {
   "cell_type": "code",
   "execution_count": 4,
   "id": "dc3afbde",
   "metadata": {},
   "outputs": [],
   "source": [
    "df_hepatite.drop('Unnamed: 0', axis=1, inplace=True)"
   ]
  },
  {
   "cell_type": "code",
   "execution_count": 5,
   "id": "f78bc7c3",
   "metadata": {},
   "outputs": [
    {
     "name": "stdout",
     "output_type": "stream",
     "text": [
      "<class 'pandas.core.frame.DataFrame'>\n",
      "RangeIndex: 608 entries, 0 to 607\n",
      "Data columns (total 14 columns):\n",
      " #   Column    Non-Null Count  Dtype  \n",
      "---  ------    --------------  -----  \n",
      " 0   Age       608 non-null    float64\n",
      " 1   ALB       608 non-null    float64\n",
      " 2   ALP       608 non-null    float64\n",
      " 3   ALT       608 non-null    float64\n",
      " 4   AST       608 non-null    float64\n",
      " 5   BIL       608 non-null    float64\n",
      " 6   CHE       608 non-null    float64\n",
      " 7   CHOL      608 non-null    float64\n",
      " 8   CREA      608 non-null    float64\n",
      " 9   GGT       608 non-null    float64\n",
      " 10  PROT      608 non-null    float64\n",
      " 11  M         608 non-null    float64\n",
      " 12  F         608 non-null    float64\n",
      " 13  Category  608 non-null    int64  \n",
      "dtypes: float64(13), int64(1)\n",
      "memory usage: 66.6 KB\n"
     ]
    }
   ],
   "source": [
    "df_hepatite.info()"
   ]
  },
  {
   "cell_type": "code",
   "execution_count": 6,
   "id": "4a0acb1a",
   "metadata": {},
   "outputs": [],
   "source": [
    "corr_df = df_hepatite.corr(method='pearson')"
   ]
  },
  {
   "cell_type": "code",
   "execution_count": 7,
   "id": "77325942",
   "metadata": {},
   "outputs": [
    {
     "data": {
      "image/png": "[encoded data removed]",
      "text/plain": [
       "<Figure size 648x648 with 2 Axes>"
      ]
     },
     "metadata": {},
     "output_type": "display_data"
    }
   ],
   "source": [
    "plt.figure(figsize=(9, 9))\n",
    "sns.heatmap(corr_df, annot=True)\n",
    "plt.show()"
   ]
  },
  {
   "cell_type": "code",
   "execution_count": 8,
   "id": "46a40e34",
   "metadata": {},
   "outputs": [],
   "source": [
    "#df_hepatite['Category'] = df_hepatite['Category'].astype('category')"
   ]
  },
  {
   "cell_type": "code",
   "execution_count": 9,
   "id": "5b6b44fd",
   "metadata": {},
   "outputs": [
    {
     "name": "stdout",
     "output_type": "stream",
     "text": [
      "<class 'pandas.core.frame.DataFrame'>\n",
      "RangeIndex: 608 entries, 0 to 607\n",
      "Data columns (total 14 columns):\n",
      " #   Column    Non-Null Count  Dtype  \n",
      "---  ------    --------------  -----  \n",
      " 0   Age       608 non-null    float64\n",
      " 1   ALB       608 non-null    float64\n",
      " 2   ALP       608 non-null    float64\n",
      " 3   ALT       608 non-null    float64\n",
      " 4   AST       608 non-null    float64\n",
      " 5   BIL       608 non-null    float64\n",
      " 6   CHE       608 non-null    float64\n",
      " 7   CHOL      608 non-null    float64\n",
      " 8   CREA      608 non-null    float64\n",
      " 9   GGT       608 non-null    float64\n",
      " 10  PROT      608 non-null    float64\n",
      " 11  M         608 non-null    float64\n",
      " 12  F         608 non-null    float64\n",
      " 13  Category  608 non-null    int64  \n",
      "dtypes: float64(13), int64(1)\n",
      "memory usage: 66.6 KB\n"
     ]
    }
   ],
   "source": [
    "df_hepatite.info()\n",
    "df_hepatite['Category'] = df_hepatite['Category'].map(lambda x: 1 if x > 0 else 0)"
   ]
  },
  {
   "cell_type": "code",
   "execution_count": 10,
   "id": "3da92224",
   "metadata": {},
   "outputs": [],
   "source": [
    "X = df_hepatite[['ALB', 'AST', 'BIL','CHE', 'CHOL', 'GGT']]\n",
    "y = df_hepatite['Category']"
   ]
  },
  {
   "cell_type": "markdown",
   "id": "1ced7f3c",
   "metadata": {},
   "source": [
    "## Hold-out\n",
    "\n",
    "Antes de realizar o 10-Fold os dados serão separados em treino e teste através do método **hold-out**. O data set de treino será utilizado para validar os modelos e escolher os melhores parâmetros com o **10-fold** para então comparar o modelos com o data set de teste."
   ]
  },
  {
   "cell_type": "code",
   "execution_count": 11,
   "id": "09a37e51",
   "metadata": {},
   "outputs": [],
   "source": [
    "X_train, X_test, y_train, y_test = train_test_split(X, y, test_size=0.3, random_state=199, stratify=y)"
   ]
  },
  {
   "cell_type": "code",
   "execution_count": 12,
   "id": "165c05f5",
   "metadata": {},
   "outputs": [
    {
     "data": {
      "text/html": [
       "<div>\n",
       "<style scoped>\n",
       "    .dataframe tbody tr th:only-of-type {\n",
       "        vertical-align: middle;\n",
       "    }\n",
       "\n",
       "    .dataframe tbody tr th {\n",
       "        vertical-align: top;\n",
       "    }\n",
       "\n",
       "    .dataframe thead th {\n",
       "        text-align: right;\n",
       "    }\n",
       "</style>\n",
       "<table border=\"1\" class=\"dataframe\">\n",
       "  <thead>\n",
       "    <tr style=\"text-align: right;\">\n",
       "      <th></th>\n",
       "      <th>ALB</th>\n",
       "      <th>AST</th>\n",
       "      <th>BIL</th>\n",
       "      <th>CHE</th>\n",
       "      <th>CHOL</th>\n",
       "      <th>GGT</th>\n",
       "    </tr>\n",
       "  </thead>\n",
       "  <tbody>\n",
       "    <tr>\n",
       "      <th>22</th>\n",
       "      <td>0.163199</td>\n",
       "      <td>-0.124845</td>\n",
       "      <td>0.603716</td>\n",
       "      <td>1.267006</td>\n",
       "      <td>-0.286255</td>\n",
       "      <td>1.181960</td>\n",
       "    </tr>\n",
       "    <tr>\n",
       "      <th>598</th>\n",
       "      <td>-1.633822</td>\n",
       "      <td>0.654401</td>\n",
       "      <td>9.543545</td>\n",
       "      <td>-2.993094</td>\n",
       "      <td>-0.196105</td>\n",
       "      <td>2.081585</td>\n",
       "    </tr>\n",
       "    <tr>\n",
       "      <th>365</th>\n",
       "      <td>-1.930238</td>\n",
       "      <td>-0.532876</td>\n",
       "      <td>-0.459344</td>\n",
       "      <td>-1.040741</td>\n",
       "      <td>-0.069896</td>\n",
       "      <td>-0.295584</td>\n",
       "    </tr>\n",
       "    <tr>\n",
       "      <th>200</th>\n",
       "      <td>-1.170672</td>\n",
       "      <td>0.043889</td>\n",
       "      <td>-0.196110</td>\n",
       "      <td>1.396240</td>\n",
       "      <td>1.065990</td>\n",
       "      <td>-0.257056</td>\n",
       "    </tr>\n",
       "    <tr>\n",
       "      <th>496</th>\n",
       "      <td>0.607823</td>\n",
       "      <td>-0.118710</td>\n",
       "      <td>-0.317603</td>\n",
       "      <td>-0.800735</td>\n",
       "      <td>-0.250195</td>\n",
       "      <td>2.062321</td>\n",
       "    </tr>\n",
       "    <tr>\n",
       "      <th>...</th>\n",
       "      <td>...</td>\n",
       "      <td>...</td>\n",
       "      <td>...</td>\n",
       "      <td>...</td>\n",
       "      <td>...</td>\n",
       "      <td>...</td>\n",
       "    </tr>\n",
       "    <tr>\n",
       "      <th>359</th>\n",
       "      <td>-0.337002</td>\n",
       "      <td>-0.465382</td>\n",
       "      <td>-0.160675</td>\n",
       "      <td>-1.373056</td>\n",
       "      <td>0.128434</td>\n",
       "      <td>-0.274394</td>\n",
       "    </tr>\n",
       "    <tr>\n",
       "      <th>223</th>\n",
       "      <td>0.885713</td>\n",
       "      <td>0.206488</td>\n",
       "      <td>-0.347976</td>\n",
       "      <td>-0.233029</td>\n",
       "      <td>1.390528</td>\n",
       "      <td>-0.322554</td>\n",
       "    </tr>\n",
       "    <tr>\n",
       "      <th>321</th>\n",
       "      <td>0.311407</td>\n",
       "      <td>-0.508333</td>\n",
       "      <td>-0.292292</td>\n",
       "      <td>-0.491497</td>\n",
       "      <td>-0.899272</td>\n",
       "      <td>0.122443</td>\n",
       "    </tr>\n",
       "    <tr>\n",
       "      <th>356</th>\n",
       "      <td>-0.485210</td>\n",
       "      <td>-0.410160</td>\n",
       "      <td>-0.312540</td>\n",
       "      <td>-1.036125</td>\n",
       "      <td>0.380853</td>\n",
       "      <td>-0.436211</td>\n",
       "    </tr>\n",
       "    <tr>\n",
       "      <th>349</th>\n",
       "      <td>0.941291</td>\n",
       "      <td>-0.376413</td>\n",
       "      <td>0.082311</td>\n",
       "      <td>0.030054</td>\n",
       "      <td>0.290703</td>\n",
       "      <td>-0.018184</td>\n",
       "    </tr>\n",
       "  </tbody>\n",
       "</table>\n",
       "<p>425 rows × 6 columns</p>\n",
       "</div>"
      ],
      "text/plain": [
       "          ALB       AST       BIL       CHE      CHOL       GGT\n",
       "22   0.163199 -0.124845  0.603716  1.267006 -0.286255  1.181960\n",
       "598 -1.633822  0.654401  9.543545 -2.993094 -0.196105  2.081585\n",
       "365 -1.930238 -0.532876 -0.459344 -1.040741 -0.069896 -0.295584\n",
       "200 -1.170672  0.043889 -0.196110  1.396240  1.065990 -0.257056\n",
       "496  0.607823 -0.118710 -0.317603 -0.800735 -0.250195  2.062321\n",
       "..        ...       ...       ...       ...       ...       ...\n",
       "359 -0.337002 -0.465382 -0.160675 -1.373056  0.128434 -0.274394\n",
       "223  0.885713  0.206488 -0.347976 -0.233029  1.390528 -0.322554\n",
       "321  0.311407 -0.508333 -0.292292 -0.491497 -0.899272  0.122443\n",
       "356 -0.485210 -0.410160 -0.312540 -1.036125  0.380853 -0.436211\n",
       "349  0.941291 -0.376413  0.082311  0.030054  0.290703 -0.018184\n",
       "\n",
       "[425 rows x 6 columns]"
      ]
     },
     "execution_count": 12,
     "metadata": {},
     "output_type": "execute_result"
    }
   ],
   "source": [
    "X_train"
   ]
  },
  {
   "cell_type": "code",
   "execution_count": 13,
   "id": "3ab1c87c",
   "metadata": {},
   "outputs": [],
   "source": [
    "# converte para numpy array\n",
    "X_train = np.array(X_train)\n",
    "X_test = np.array(X_test)\n",
    "y_train = np.array(y_train)\n",
    "y_test = np.array(y_test)"
   ]
  },
  {
   "cell_type": "code",
   "execution_count": 14,
   "id": "ff943b89",
   "metadata": {},
   "outputs": [
    {
     "data": {
      "text/plain": [
       "0    160\n",
       "1     23\n",
       "dtype: int64"
      ]
     },
     "execution_count": 14,
     "metadata": {},
     "output_type": "execute_result"
    }
   ],
   "source": [
    "pd.DataFrame(y_test).value_counts()"
   ]
  },
  {
   "cell_type": "markdown",
   "id": "326547bd",
   "metadata": {},
   "source": [
    "# SMOTE"
   ]
  },
  {
   "cell_type": "code",
   "execution_count": 15,
   "id": "06bc361d",
   "metadata": {},
   "outputs": [
    {
     "data": {
      "text/plain": [
       "'\\nstrategy = {1:1500, 2:1500, 3:1500, 4:1500}\\noversample = SMOTE(sampling_strategy=strategy)\\nX_final, y = oversample.fit_resample(X_final, y)\\n'"
      ]
     },
     "execution_count": 15,
     "metadata": {},
     "output_type": "execute_result"
    }
   ],
   "source": [
    "'''\n",
    "strategy = {1:1500, 2:1500, 3:1500, 4:1500}\n",
    "oversample = SMOTE(sampling_strategy=strategy)\n",
    "X_final, y = oversample.fit_resample(X_final, y)\n",
    "'''"
   ]
  },
  {
   "cell_type": "markdown",
   "id": "6d2c2e8f",
   "metadata": {},
   "source": [
    "## Funções para executar os modelos"
   ]
  },
  {
   "cell_type": "code",
   "execution_count": 16,
   "id": "b86d6693",
   "metadata": {},
   "outputs": [],
   "source": [
    "#função que retorna um dicionário com os valores dos resultados\n",
    "def model_results(model, X_train, y_train, X_test, y_test,results_dict_aux):\n",
    "    \n",
    "    model.fit(X_train, y_train)\n",
    "    y_pred = model.predict(X_test)\n",
    "\n",
    "    # medindo e armazenando acurácia e f1-score no dicionário\n",
    "    # accuracy = model.score(X_test, y_test)\n",
    "    accuracy = accuracy_score(y_test, y_pred)\n",
    "    f1 = f1_score(y_test, y_pred, average='weighted')\n",
    "    # AUC = roc_auc_score(y_test, model.predict_proba(X_test), average='weighted', multi_class='ovo')\n",
    "    CM = confusion_matrix(y_test, y_pred)\n",
    "\n",
    "    results_dict_aux['accuracy'].append(accuracy)\n",
    "    results_dict_aux['f1'].append(f1)\n",
    "    #results_dict_aux['auc'].append(AUC)\n",
    "    results_dict_aux['cm'].append(CM)\n",
    "    \n",
    "    #print(f\"f1: %.6f\\n\" %(f1))\n",
    "    #print(f\"Accuracy: %.6f\\n\" %(accuracy))\n",
    "    #print(f\"AUC: %.6f\" %(AUC))\n",
    "    #print(f\"CM: \\n{CM} \\n\")\n",
    "    '''\n",
    "    print(\"-----------------------CURVA ROC---------------------\")\n",
    "    visualizer = ROCAUC(model, encoder={1:\"Class 1\", 2:\"Class 2\", 3:\"Class 3\", 4:\"Class 4\"})\n",
    "\n",
    "    visualizer.fit(X_train, y_train)        \n",
    "    visualizer.score(X_test, y_test)        \n",
    "    visualizer.show()                       \n",
    "    #print(\"-----------------------------------------------------\\n\")'''\n",
    "    \n",
    "    return results_dict_aux"
   ]
  },
  {
   "cell_type": "markdown",
   "id": "0e1fa7c0",
   "metadata": {},
   "source": [
    "## RandomizedSearch\n",
    "\n",
    "Para cada modelo é implementada uma função do RandomizedSearch. Para ser aplicada em cada um dos 10 conjuntos de treino do 10-fold."
   ]
  },
  {
   "cell_type": "code",
   "execution_count": 17,
   "id": "1a4ebd15",
   "metadata": {},
   "outputs": [],
   "source": [
    "def Random_search(model, param_grid, X, y):\n",
    "\n",
    "    # defining parameter range\n",
    "    grid = RandomizedSearchCV(model, param_grid, cv=3,random_state=199, scoring='accuracy', n_jobs=5)\n",
    "    # fitting the model for grid search\n",
    "    grid.fit(X, y)\n",
    "    #utilizando melhores parâmetros calculados pelo gridsearch\n",
    "    dic_best = grid.best_params_\n",
    "    \n",
    "    return dic_best"
   ]
  },
  {
   "cell_type": "markdown",
   "id": "afd15fef",
   "metadata": {},
   "source": [
    "**KNN**"
   ]
  },
  {
   "cell_type": "code",
   "execution_count": 18,
   "id": "2727b7c8",
   "metadata": {},
   "outputs": [],
   "source": [
    "#dicionário com parêmetros para o gridsearch\n",
    "knn_param_grid = {\n",
    "    'n_neighbors': [impar for impar in range(1,32) if (impar%2)!=0],\n",
    "    'weights': ['uniform', 'distance'],\n",
    "    'metric': ['euclidian','manhattan','chebyshev']\n",
    "}"
   ]
  },
  {
   "cell_type": "markdown",
   "id": "d1db3ba7",
   "metadata": {},
   "source": [
    "**Decision Tree**"
   ]
  },
  {
   "cell_type": "code",
   "execution_count": 19,
   "id": "89a5bedb",
   "metadata": {},
   "outputs": [],
   "source": [
    "#dicionário com parêmetros para o gridsearch\n",
    "dt_param_grid = {\n",
    "    'max_depth': [x for x in range(1,32)],\n",
    "    'criterion': ['gini', 'entropy'],\n",
    "}"
   ]
  },
  {
   "cell_type": "markdown",
   "id": "53fce1a4",
   "metadata": {},
   "source": [
    "**MLP**"
   ]
  },
  {
   "cell_type": "code",
   "execution_count": 20,
   "id": "cfe9d816",
   "metadata": {},
   "outputs": [],
   "source": [
    "# dicionário com parêmetros para o gridsearch\n",
    "mlp_param_grid = {\n",
    "    'hidden_layer_sizes': [(100,), (50, 15, 5), (100, 25, 10)],\n",
    "    'activation': ['tanh', 'relu', 'logistic'],\n",
    "    'solver': ['sgd', 'adam', 'lbfgs'],\n",
    "    'learning_rate': ['constant', 'adaptive'],\n",
    "    'learning_rate_init': [0.1, 0.01, 0.001],\n",
    "}"
   ]
  },
  {
   "cell_type": "markdown",
   "id": "4db79b59",
   "metadata": {},
   "source": [
    "**SVM**"
   ]
  },
  {
   "cell_type": "code",
   "execution_count": 21,
   "id": "0306a680",
   "metadata": {},
   "outputs": [],
   "source": [
    "#dicionário com parêmetros para o gridsearch\n",
    "svm_param_grid = {\n",
    "    'C': [0.1, 1, 10, 100],\n",
    "    'kernel': ['rbf','sigmoid', 'linear'], #['linear', 'poly', 'rbf', 'sigmoid']\n",
    "    'gamma': [1, 0.1, 0.01, 0.001]\n",
    "}"
   ]
  },
  {
   "cell_type": "markdown",
   "id": "1b7e82a4",
   "metadata": {},
   "source": [
    "**Regressão Logística Multimodal**"
   ]
  },
  {
   "cell_type": "code",
   "execution_count": 22,
   "id": "897d5820",
   "metadata": {},
   "outputs": [],
   "source": [
    "mlr_param_grid = {\n",
    "    'penalty': ['l2', 'none'],\n",
    "    'solver': ['newton-cg', 'sag', 'lbfgs']\n",
    "}"
   ]
  },
  {
   "cell_type": "markdown",
   "id": "85ffbd07",
   "metadata": {},
   "source": [
    "**Random Forest**"
   ]
  },
  {
   "cell_type": "code",
   "execution_count": 23,
   "id": "38edae92",
   "metadata": {},
   "outputs": [],
   "source": [
    "# profundidade máxima\n",
    "max_depth = [int(x) for x in np.linspace(100, 300, num = 11)]\n",
    "max_depth.append(None)\n",
    "# grid\n",
    "rf_param_grid = {\n",
    " 'n_estimators': [int(x) for x in np.linspace(start = 100, stop = 500, num = 10)],\n",
    " 'max_depth': max_depth,\n",
    " # numero de features a serem consideradas em cada fold\n",
    " 'max_features': ['auto', 'sqrt', 'log2']\n",
    "}"
   ]
  },
  {
   "cell_type": "markdown",
   "id": "75482419",
   "metadata": {},
   "source": [
    "**Gradiente Boosting**"
   ]
  },
  {
   "cell_type": "code",
   "execution_count": 24,
   "id": "eb47581e",
   "metadata": {},
   "outputs": [],
   "source": [
    "gb_param_grid = {\n",
    "    \"loss\":[\"deviance\", \"exponential\"],\n",
    "    \"learning_rate\": [0.01, 0.025, 0.05, 0.075, 0.1, 0.15, 0.2],\n",
    "    \"min_samples_split\": np.linspace(0.1, 0.5, 12),\n",
    "    \"min_samples_leaf\": np.linspace(0.1, 0.5, 12),\n",
    "    \"max_depth\":[3,5,8],\n",
    "    \"max_features\":[\"log2\",\"sqrt\"],\n",
    "    \"criterion\": [\"friedman_mse\",  \"mae\"],\n",
    "    \"subsample\":[0.5, 0.618, 0.8, 0.85, 0.9, 0.95, 1.0],\n",
    "    \"n_estimators\":[10]\n",
    "}"
   ]
  },
  {
   "cell_type": "markdown",
   "id": "eee7fd4f",
   "metadata": {},
   "source": [
    "**Extreme Gradient Boosting**"
   ]
  },
  {
   "cell_type": "code",
   "execution_count": 25,
   "id": "0306cd23",
   "metadata": {},
   "outputs": [],
   "source": [
    "xgb_param_grid = {\n",
    "    \"objective\": ['binary:hinge'],\n",
    "    \"max_depth\": range (2, 10, 1),\n",
    "    \"n_estimators\": range(60, 220, 40),\n",
    "    \"learning_rate\": [0.1, 0.01, 0.05],\n",
    "    \"subsample\": [0.8],\n",
    "    \"colsample_bytree\": [0.5],\n",
    "}"
   ]
  },
  {
   "cell_type": "markdown",
   "id": "48feb7d2",
   "metadata": {},
   "source": [
    "**Ada Boosting**"
   ]
  },
  {
   "cell_type": "code",
   "execution_count": 26,
   "id": "a540b93e",
   "metadata": {},
   "outputs": [],
   "source": [
    "ab_param_grid = {\n",
    "    'n_estimators':[int(x) for x in np.linspace(start = 100, stop = 2000, num = 10)],\n",
    "    'learning_rate':[.001,0.01, 0.1, 1, 2]\n",
    "}"
   ]
  },
  {
   "cell_type": "code",
   "execution_count": 27,
   "id": "32bbbb5c",
   "metadata": {},
   "outputs": [],
   "source": [
    "def calculate_mean_restults(results_dict_models):    \n",
    "    # a cada interação calcula a média e o desvio padrão da \n",
    "    # acurácia, f1-score e matriz de confusão de cada modelo\n",
    "    for model_key in results_dict_models.keys():\n",
    "        accuracies = np.array(results_dict_models[model_key]['accuracy'])\n",
    "        f1 = np.array(results_dict_models[model_key]['f1'])\n",
    "        #auc = np.array(results_dict_models[model_key]['auc'])\n",
    "        conf_matrix = np.array(results_dict_models[model_key]['cm'])\n",
    "\n",
    "        print_mean_result(model_key, accuracies, f1, conf_matrix)"
   ]
  },
  {
   "cell_type": "code",
   "execution_count": 28,
   "id": "6f954d1d",
   "metadata": {},
   "outputs": [],
   "source": [
    "def print_best_results(best_dict_knn, best_dict_dt, best_dict_mlp, best_dict_svm, best_dict_mlr, best_dict_rf, best_dict_xgb, best_dict_gb , best_dict_ab):\n",
    "    print(\"\\n------- BEST PARAMETERS -------\")\n",
    "    print(f\"KNN: {best_dict_knn}\")\n",
    "    print(f\"DT: {best_dict_dt}\")\n",
    "    print(f\"MLP: {best_dict_mlp}\")\n",
    "    print(f\"SVM: {best_dict_svm}\")\n",
    "    print(f\"MLR: {best_dict_mlr}\")\n",
    "    print(f\"RF: {best_dict_rf}\") \n",
    "    print(f\"XGB: dic:{best_dict_xgb}\") \n",
    "    print(f\"GB: dic:{best_dict_gb}\") \n",
    "    print(f\"AB: dic:{best_dict_ab}\")\n",
    "    print(\"--------------------------------------------------------------------------\")"
   ]
  },
  {
   "cell_type": "code",
   "execution_count": 29,
   "id": "2566fbf1",
   "metadata": {},
   "outputs": [],
   "source": [
    "def print_mean_result(model_key, accuracies, f1, conf_matrix):\n",
    "    print(f\"\\t{model_key}\")\n",
    "    print(\"Acurácia média (desvio): %.6f +- (%.6f)\" %(accuracies.mean(), accuracies.std()))\n",
    "    print(\"F1-score média (desvio): %.6f +- (%.6f)\" %(f1.mean(), f1.std()))\n",
    "    #print(\"AUC média (desvio): %.6f +- (%.6f)\\n\" %(auc.mean(), auc.std()))\n",
    "    print(f\"Matriz de Confusão:  \\n{sum(conf_matrix)*0.1}\")"
   ]
  },
  {
   "cell_type": "markdown",
   "id": "8b6c3650",
   "metadata": {},
   "source": [
    "## 10-Fold\n",
    "\n",
    "Com esse método são criados 10 datasets de treino e 10 datasets de test com uma divisão de 90% para treino e 10% para teste em cada divisão.\n",
    "\n",
    "O conjunto de treino sera divido mais uma vez em treino e validação (isso é feito dendo da função `GridSearchCV` para que então seja aplicado o GridSearch e assim obtenha-se os melhores parâmetros. Por fim, tendo os melhores parâmetros, utiliza-se o conjunto de teste para que se possa avaliar os resultados.\n",
    "\n",
    "Esses resultados são obtidos de cada fold e então se tira a média deles para obter-se a avaliação final de cada modelo."
   ]
  },
  {
   "cell_type": "code",
   "execution_count": 30,
   "id": "ac1b239d",
   "metadata": {},
   "outputs": [],
   "source": [
    "#função que roda os modelos em cada uma das divisões do 10-fold\n",
    "#e imprime a média e o desvio padrão dos resultados\n",
    "\n",
    "def evaluate_model_with_kfold(kf):\n",
    "    results_dict_models = {}\n",
    "    # listas e dicionarios para salvar as métricas dos resultados de todas as interacoes\n",
    "    # a key 'best'salva a melhor acurácia\n",
    "    \n",
    "    results_dict_KNN = {\n",
    "        'accuracy': [],\n",
    "        'f1': [],\n",
    "        #'auc': [],\n",
    "        'cm': [],\n",
    "        'best': 0.0\n",
    "    }\n",
    "    \n",
    "    results_dict_PERC = {\n",
    "        'accuracy': [], 'f1': [],  'cm': [], 'best': 0.0\n",
    "    }\n",
    "    results_dict_DT = {\n",
    "        'accuracy': [], 'f1': [],  'cm': [], 'best': 0.0\n",
    "    }\n",
    "    results_dict_MLP = {\n",
    "        'accuracy': [], 'f1': [],  'cm': [], 'best': 0.0\n",
    "    }\n",
    "    results_dict_SVM = {\n",
    "        'accuracy': [], 'f1': [],  'cm': [], 'best': 0.0\n",
    "    }\n",
    "    results_dict_GNB = {\n",
    "        'accuracy': [], 'f1': [],  'cm': [], 'best': 0.0\n",
    "    }\n",
    "    results_dict_MLR = {\n",
    "        'accuracy': [], 'f1': [],  'cm': [], 'best': 0.0\n",
    "    }\n",
    "    results_dict_RF = {\n",
    "        'accuracy': [], 'f1': [],  'cm': [], 'best': 0.0\n",
    "    }\n",
    "    results_dict_XGB = {\n",
    "        'accuracy': [], 'f1': [],  'cm': [], 'best': 0.0\n",
    "    }\n",
    "    results_dict_GB = {\n",
    "        'accuracy': [], 'f1': [],  'cm': [], 'best': 0.0\n",
    "    }\n",
    "    results_dict_AB = {\n",
    "        'accuracy': [], 'f1': [],  'cm': [], 'best': 0.0\n",
    "    }\n",
    "\n",
    "    \n",
    "    # váriável para salvar os melhores parâmetros\n",
    "    best_dict_knn, best_dict_dt, best_dict_mlp, best_dict_svm, best_dict_mlr, best_dict_rf, best_dict_xgb, best_dict_gb , best_dict_ab = {}, {}, {}, {}, {}, {}, {}, {}, {}\n",
    "    \n",
    "    fold = 0\n",
    "    \n",
    "    # laço que roda todos os modelos em cada 1-fold\n",
    "    for train, test in kf.split(X_train, y_train):\n",
    "    \n",
    "        # usa a lista retornada pelo .split para selicionar as intâncias de cada fold\n",
    "        X_train_kf = X_train[train,:] \n",
    "        y_train_kf = y_train[train]\n",
    "        X_test_kf = X_train[test,:]\n",
    "        y_test_kf = y_train[test]\n",
    "        \n",
    "        # para acompanhar a execução \n",
    "        fold += 1\n",
    "        print(f\"\\n{fold}º fold\")\n",
    "        \n",
    "        #kNN\n",
    "        print(\"-KNN\")\n",
    "        dict_knn = Random_search(knn(), knn_param_grid, X_train_kf, y_train_kf)\n",
    "        model = knn(**dict_knn)\n",
    "        results_dict_KNN = model_results(model, X_train_kf, y_train_kf, X_test_kf, y_test_kf, results_dict_KNN)\n",
    "        #verifica se os parêmetros do fold atual são os melhores\n",
    "        if (results_dict_KNN['accuracy'][-1] > results_dict_KNN['best']): \n",
    "            results_dict_KNN['best'] = results_dict_KNN['accuracy'][-1]\n",
    "            best_dict_knn = dict_knn \n",
    "            \n",
    "        #PerC\n",
    "        print(\"-PerC\")\n",
    "        model = PerC()\n",
    "        results_dict_PERC = model_results(model, X_train_kf, y_train_kf, X_test_kf, y_test_kf, results_dict_PERC)\n",
    "            \n",
    "        #DT\n",
    "        print(\"-DT\")\n",
    "        dict_dt = Random_search(DecisionTreeClassifier(), dt_param_grid, X_train_kf, y_train_kf)\n",
    "        model = DecisionTreeClassifier(**dict_dt, random_state=199)\n",
    "        results_dict_DT = model_results(model, X_train_kf, y_train_kf, X_test_kf, y_test_kf, results_dict_DT)\n",
    "        #verifica se os parêmetros do fold atual são os melhores\n",
    "        if (results_dict_DT['accuracy'][-1] > results_dict_DT['best']): \n",
    "            results_dict_DT['best'] = results_dict_DT['accuracy'][-1]\n",
    "            best_dict_dt = dict_dt\n",
    "        \n",
    "        \n",
    "        #MLP \n",
    "        print(\"-MLP\")\n",
    "        dict_mlp = Random_search(MLPClassifier(),mlp_param_grid, X_train_kf,y_train_kf)\n",
    "        model = MLPClassifier(**dict_mlp, max_iter=2000, tol=0.000001, random_state=199)\n",
    "        results_dict_MLP = model_results(model, X_train_kf, y_train_kf, X_test_kf, y_test_kf, results_dict_MLP)\n",
    "        #verifica se os parêmetros do fold atual são os melhores comparando a acurácia\n",
    "        if (results_dict_MLP['accuracy'][-1] > results_dict_MLP['best']): \n",
    "            results_dict_MLP['best'] = results_dict_MLP['accuracy'][-1]\n",
    "            best_dict_mlp = dict_mlp\n",
    "        \n",
    "        #GNB \n",
    "        print(\"-GNB\")\n",
    "        model = GaussianNB()\n",
    "        results_dict_models['GNB'] = model_results(model, X_train_kf, y_train_kf, X_test_kf, y_test_kf, results_dict_GNB)\n",
    "        \n",
    "        #SVM\n",
    "        print(\"-SVM\")\n",
    "        dict_svm = Random_search(SVC(), svm_param_grid, X_train_kf, y_train_kf)\n",
    "        model = SVC(**dict_svm, probability=True, random_state=199)\n",
    "        results_dict_SVM = model_results(model, X_train_kf, y_train_kf, X_test_kf, y_test_kf, results_dict_SVM)\n",
    "        #verifica se os parêmetros do fold atual são os melhores\n",
    "        if (results_dict_SVM['accuracy'][-1] > results_dict_SVM['best']): \n",
    "            results_dict_SVM['best'] = results_dict_SVM['accuracy'][-1]\n",
    "            best_dict_svm = dict_svm           \n",
    "        \n",
    "        # Regressão Logística Multimodal\n",
    "        print(\"-MLR\")\n",
    "        dict_mlr = Random_search(LogisticRegression(), mlr_param_grid, X_train_kf, y_train_kf)\n",
    "        model = LogisticRegression(**dict_mlr, multi_class='multinomial', random_state=199)\n",
    "        results_dict_MLR = model_results(model, X_train_kf, y_train_kf, X_test_kf, y_test_kf, results_dict_MLR)\n",
    "        #verifica se os parêmetros do fold atual são os melhores\n",
    "        if (results_dict_MLR['accuracy'][-1] > results_dict_MLR['best']): \n",
    "            results_dict_MLR['best'] = results_dict_MLR['accuracy'][-1]\n",
    "            best_dict_mlr = dict_mlr \n",
    "        \n",
    "        # Random Forest\n",
    "        print(\"-RF\")\n",
    "        dict_rf = Random_search(RandomForestClassifier(), rf_param_grid, X_train_kf, y_train_kf)\n",
    "        model = RandomForestClassifier(**dict_rf, random_state=199)\n",
    "        results_dict_RF = model_results(model, X_train_kf, y_train_kf, X_test_kf, y_test_kf, results_dict_RF)\n",
    "        #verifica se os parêmetros do fold atual são os melhores\n",
    "        if (results_dict_RF['accuracy'][-1] > results_dict_RF['best']): \n",
    "            results_dict_RF['best'] = results_dict_RF['accuracy'][-1]\n",
    "            best_dict_rf = dict_rf \n",
    "      \n",
    "        # Ada Boosting\n",
    "        print(\"-AB\")\n",
    "        dict_ab = Random_search(AdaBoostClassifier(), ab_param_grid, X_train_kf, y_train_kf)\n",
    "        model = AdaBoostClassifier(**dict_ab, random_state=199)\n",
    "        results_dict_AB = model_results(model, X_train_kf, y_train_kf, X_test_kf, y_test_kf, results_dict_AB)\n",
    "        #verifica se os parêmetros do fold atual são os melhores\n",
    "        if (results_dict_AB['accuracy'][-1] > results_dict_AB['best']): \n",
    "            results_dict_AB['best'] = results_dict_AB['accuracy'][-1]\n",
    "            best_dict_ab = dict_ab\n",
    "      \n",
    "        # EXtrem Gradiente Boosting\n",
    "        print(\"-XGB\")\n",
    "        dict_xgb = Random_search(XGBClassifier(), xgb_param_grid, X_train_kf, y_train_kf)\n",
    "        model = XGBClassifier(**dict_xgb, random_state=199)\n",
    "        results_dict_XGB = model_results(model, X_train_kf, y_train_kf, X_test_kf, y_test_kf, results_dict_XGB)\n",
    "        #verifica se os parêmetros do fold atual são os melhores\n",
    "        if (results_dict_XGB['accuracy'][-1] > results_dict_XGB['best']): \n",
    "            results_dict_XGB['best'] = results_dict_XGB['accuracy'][-1]\n",
    "            best_dict_xgb = dict_xgb\n",
    "      \n",
    "        # GB\n",
    "        print(\"-GB\")\n",
    "        dict_gb = Random_search(GradientBoostingClassifier(), gb_param_grid, X_train_kf, y_train_kf)\n",
    "        model = GradientBoostingClassifier(**dict_gb, random_state=199)\n",
    "        results_dict_GB = model_results(model, X_train_kf, y_train_kf, X_test_kf, y_test_kf, results_dict_GB)\n",
    "        #verifica se os parêmetros do fold atual são os melhores\n",
    "        if (results_dict_GB['accuracy'][-1] > results_dict_GB['best']): \n",
    "            results_dict_GB['best'] = results_dict_GB['accuracy'][-1]\n",
    "            best_dict_gb = dict_gb        \n",
    "        \n",
    "    results_dict_models['KNN'] = results_dict_KNN\n",
    "    results_dict_models['DT'] = results_dict_DT\n",
    "    results_dict_models['MLP'] = results_dict_MLP\n",
    "    results_dict_models['GNB'] = results_dict_GNB\n",
    "    results_dict_models['SVM'] = results_dict_SVM\n",
    "    results_dict_models['MLR'] = results_dict_MLR\n",
    "    results_dict_models['RF'] = results_dict_RF\n",
    "    results_dict_models['XGB'] = results_dict_XGB\n",
    "    results_dict_models['GB'] = results_dict_GB\n",
    "    results_dict_models['AB'] = results_dict_AB\n",
    "    results_dict_models['PERC'] = results_dict_PERC\n",
    "    \n",
    "    # calcula a média dos resultados e imprime cada métrica\n",
    "    calculate_mean_restults(results_dict_models)\n",
    "\n",
    "    # imprime os melhores parâmetros\n",
    "    print_best_results(best_dict_knn, best_dict_dt, best_dict_mlp, best_dict_svm, best_dict_mlr, best_dict_rf, best_dict_xgb, best_dict_ab, best_dict_gb)\n",
    "    \n",
    "    # salva os melhores parâmetros em um dicionário que é o retorno da função\n",
    "    parameters_dict = {\n",
    "        'knn': best_dict_knn,\n",
    "        'dt': best_dict_dt,\n",
    "        'mlp': best_dict_mlp,\n",
    "        'svm': best_dict_svm,\n",
    "        'mlr': best_dict_mlr,\n",
    "        'rf': best_dict_rf,\n",
    "        'xgb': best_dict_xgb,\n",
    "        'gb': best_dict_gb,\n",
    "        'ab': best_dict_ab\n",
    "    }\n",
    "    \n",
    "    return parameters_dict"
   ]
  },
  {
   "cell_type": "code",
   "execution_count": 31,
   "id": "7a49a09a",
   "metadata": {},
   "outputs": [],
   "source": [
    "import warnings"
   ]
  },
  {
   "cell_type": "code",
   "execution_count": 32,
   "id": "c1d9f383",
   "metadata": {
    "scrolled": false
   },
   "outputs": [
    {
     "name": "stdout",
     "output_type": "stream",
     "text": [
      "\n",
      "1º fold\n",
      "-KNN\n",
      "-PerC\n",
      "-DT\n",
      "-MLP\n",
      "-GNB\n",
      "-SVM\n",
      "-MLR\n",
      "-RF\n",
      "-AB\n",
      "-XGB\n",
      "-GB\n",
      "\n",
      "2º fold\n",
      "-KNN\n",
      "-PerC\n",
      "-DT\n",
      "-MLP\n",
      "-GNB\n",
      "-SVM\n",
      "-MLR\n",
      "-RF\n",
      "-AB\n",
      "-XGB\n",
      "-GB\n",
      "\n",
      "3º fold\n",
      "-KNN\n",
      "-PerC\n",
      "-DT\n",
      "-MLP\n",
      "-GNB\n",
      "-SVM\n",
      "-MLR\n",
      "-RF\n",
      "-AB\n",
      "-XGB\n",
      "-GB\n",
      "\n",
      "4º fold\n",
      "-KNN\n",
      "-PerC\n",
      "-DT\n",
      "-MLP\n",
      "-GNB\n",
      "-SVM\n",
      "-MLR\n",
      "-RF\n",
      "-AB\n",
      "-XGB\n",
      "-GB\n",
      "\n",
      "5º fold\n",
      "-KNN\n",
      "-PerC\n",
      "-DT\n",
      "-MLP\n",
      "-GNB\n",
      "-SVM\n",
      "-MLR\n",
      "-RF\n",
      "-AB\n",
      "-XGB\n",
      "-GB\n",
      "\n",
      "6º fold\n",
      "-KNN\n",
      "-PerC\n",
      "-DT\n",
      "-MLP\n",
      "-GNB\n",
      "-SVM\n",
      "-MLR\n",
      "-RF\n",
      "-AB\n",
      "-XGB\n",
      "-GB\n",
      "\n",
      "7º fold\n",
      "-KNN\n",
      "-PerC\n",
      "-DT\n",
      "-MLP\n",
      "-GNB\n",
      "-SVM\n",
      "-MLR\n",
      "-RF\n",
      "-AB\n",
      "-XGB\n",
      "-GB\n",
      "\n",
      "8º fold\n",
      "-KNN\n",
      "-PerC\n",
      "-DT\n",
      "-MLP\n",
      "-GNB\n",
      "-SVM\n",
      "-MLR\n",
      "-RF\n",
      "-AB\n",
      "-XGB\n",
      "-GB\n",
      "\n",
      "9º fold\n",
      "-KNN\n",
      "-PerC\n",
      "-DT\n",
      "-MLP\n",
      "-GNB\n",
      "-SVM\n",
      "-MLR\n",
      "-RF\n",
      "-AB\n",
      "-XGB\n",
      "-GB\n",
      "\n",
      "10º fold\n",
      "-KNN\n",
      "-PerC\n",
      "-DT\n",
      "-MLP\n",
      "-GNB\n",
      "-SVM\n",
      "-MLR\n",
      "-RF\n",
      "-AB\n",
      "-XGB\n",
      "-GB\n",
      "\tGNB\n",
      "Acurácia média (desvio): 0.931894 +- (0.038260)\n",
      "F1-score média (desvio): 0.930609 +- (0.036607)\n",
      "Matriz de Confusão:  \n",
      "[[36.1  1.2]\n",
      " [ 1.7  3.5]]\n",
      "\tKNN\n",
      "Acurácia média (desvio): 0.936489 +- (0.021185)\n",
      "F1-score média (desvio): 0.924793 +- (0.029434)\n",
      "Matriz de Confusão:  \n",
      "[[37.2  0.1]\n",
      " [ 2.6  2.6]]\n",
      "\tDT\n",
      "Acurácia média (desvio): 0.953101 +- (0.027569)\n",
      "F1-score média (desvio): 0.949766 +- (0.031139)\n",
      "Matriz de Confusão:  \n",
      "[[36.8  0.5]\n",
      " [ 1.5  3.7]]\n",
      "\tMLP\n",
      "Acurácia média (desvio): 0.915282 +- (0.030284)\n",
      "F1-score média (desvio): 0.915410 +- (0.031289)\n",
      "Matriz de Confusão:  \n",
      "[[35.3  2. ]\n",
      " [ 1.6  3.6]]\n",
      "\tSVM\n",
      "Acurácia média (desvio): 0.945958 +- (0.029647)\n",
      "F1-score média (desvio): 0.939927 +- (0.038984)\n",
      "Matriz de Confusão:  \n",
      "[[36.8  0.5]\n",
      " [ 1.8  3.4]]\n",
      "\tMLR\n",
      "Acurácia média (desvio): 0.948339 +- (0.027281)\n",
      "F1-score média (desvio): 0.944080 +- (0.032008)\n",
      "Matriz de Confusão:  \n",
      "[[36.8  0.5]\n",
      " [ 1.7  3.5]]\n",
      "\tRF\n",
      "Acurácia média (desvio): 0.948394 +- (0.031043)\n",
      "F1-score média (desvio): 0.944818 +- (0.035498)\n",
      "Matriz de Confusão:  \n",
      "[[36.6  0.7]\n",
      " [ 1.5  3.7]]\n",
      "\tXGB\n",
      "Acurácia média (desvio): 0.948339 +- (0.025220)\n",
      "F1-score média (desvio): 0.944769 +- (0.029761)\n",
      "Matriz de Confusão:  \n",
      "[[36.6  0.7]\n",
      " [ 1.5  3.7]]\n",
      "\tGB\n",
      "Acurácia média (desvio): 0.901163 +- (0.031160)\n",
      "F1-score média (desvio): 0.861843 +- (0.053506)\n",
      "Matriz de Confusão:  \n",
      "[[37.3  0. ]\n",
      " [ 4.2  1. ]]\n",
      "\tAB\n",
      "Acurácia média (desvio): 0.945958 +- (0.018103)\n",
      "F1-score média (desvio): 0.943196 +- (0.022249)\n",
      "Matriz de Confusão:  \n",
      "[[36.5  0.8]\n",
      " [ 1.5  3.7]]\n",
      "\tPERC\n",
      "Acurácia média (desvio): 0.917774 +- (0.050533)\n",
      "F1-score média (desvio): 0.919357 +- (0.047636)\n",
      "Matriz de Confusão:  \n",
      "[[35.3  2. ]\n",
      " [ 1.5  3.7]]\n",
      "\n",
      "------- BEST PARAMETERS -------\n",
      "KNN: {'weights': 'distance', 'n_neighbors': 13, 'metric': 'chebyshev'}\n",
      "DT: {'max_depth': 1, 'criterion': 'gini'}\n",
      "MLP: {'solver': 'sgd', 'learning_rate_init': 0.01, 'learning_rate': 'constant', 'hidden_layer_sizes': (100, 25, 10), 'activation': 'tanh'}\n",
      "SVM: {'kernel': 'linear', 'gamma': 1, 'C': 10}\n",
      "MLR: {'solver': 'newton-cg', 'penalty': 'none'}\n",
      "RF: {'n_estimators': 411, 'max_features': 'log2', 'max_depth': 240}\n",
      "XGB: dic:{'subsample': 0.8, 'objective': 'binary:hinge', 'n_estimators': 180, 'max_depth': 7, 'learning_rate': 0.01, 'colsample_bytree': 0.5}\n",
      "GB: dic:{'n_estimators': 944, 'learning_rate': 0.01}\n",
      "AB: dic:{'subsample': 0.95, 'n_estimators': 10, 'min_samples_split': 0.390909090909091, 'min_samples_leaf': 0.1, 'max_features': 'sqrt', 'max_depth': 8, 'loss': 'exponential', 'learning_rate': 0.15, 'criterion': 'mae'}\n",
      "--------------------------------------------------------------------------\n",
      "Wall time: 3min 45s\n"
     ]
    }
   ],
   "source": [
    "%%time\n",
    "#ignorando warnings\n",
    "warnings.filterwarnings('ignore')\n",
    "\n",
    "params_dict = {}\n",
    "\n",
    "skf = StratifiedKFold(n_splits=10, shuffle=True, random_state=199)\n",
    "params_dict = evaluate_model_with_kfold(skf)"
   ]
  },
  {
   "cell_type": "markdown",
   "id": "1388b0d6",
   "metadata": {},
   "source": [
    "## Teste\n",
    "\n",
    "Aqui os modelos são execultados no dataset de teste com seus melhores parâmetros."
   ]
  },
  {
   "cell_type": "code",
   "execution_count": 33,
   "id": "443a0783",
   "metadata": {},
   "outputs": [],
   "source": [
    "def model_test_results(model, X_train, y_train, X_test, y_test):\n",
    "    \n",
    "    model.fit(X_train, y_train)\n",
    "    y_pred = model.predict(X_test)\n",
    "\n",
    "    #medindo e armazenando acurácia e f1-score no dicionário\n",
    "    \n",
    "    #accuracy = model.score(X_test, y_test)\n",
    "    accuracy = accuracy_score(y_test, y_pred)\n",
    "    f1 = f1_score(y_test, y_pred, average='weighted')\n",
    "    #AUC = roc_auc_score(y_test, model.predict_proba(X_test), average='weighted', multi_class='ovo')\n",
    "    CM = confusion_matrix(y_test, y_pred)\n",
    "    \n",
    "    \n",
    "    print(f\"Accuracy: %.6f\" %(accuracy))\n",
    "    print(f\"f1: %.6f\" %(f1))\n",
    "    #print(f\"AUC: %.6f\" %(AUC))\n",
    "    print(f\"CM: \\n{CM} \\n\")\n",
    "    \n",
    "    print (classification_report(y_test, y_pred))"
   ]
  },
  {
   "cell_type": "code",
   "execution_count": 34,
   "id": "51b5c53a",
   "metadata": {},
   "outputs": [
    {
     "data": {
      "text/plain": [
       "0    160\n",
       "1     23\n",
       "dtype: int64"
      ]
     },
     "execution_count": 34,
     "metadata": {},
     "output_type": "execute_result"
    }
   ],
   "source": [
    "pd.DataFrame(y_test).value_counts()"
   ]
  },
  {
   "cell_type": "code",
   "execution_count": 35,
   "id": "67c13a9f",
   "metadata": {},
   "outputs": [
    {
     "data": {
      "text/plain": [
       "<AxesSubplot:ylabel='count'>"
      ]
     },
     "execution_count": 35,
     "metadata": {},
     "output_type": "execute_result"
    },
    {
     "data": {
      "image/png": "[encoded data removed]",
      "text/plain": [
       "<Figure size 576x396 with 1 Axes>"
      ]
     },
     "metadata": {},
     "output_type": "display_data"
    }
   ],
   "source": [
    "sns.countplot(y_test)"
   ]
  },
  {
   "cell_type": "markdown",
   "id": "d7671774",
   "metadata": {},
   "source": [
    "**KNN**"
   ]
  },
  {
   "cell_type": "code",
   "execution_count": 36,
   "id": "68cac40b",
   "metadata": {},
   "outputs": [],
   "source": [
    "best_param_dict = params_dict['knn']"
   ]
  },
  {
   "cell_type": "code",
   "execution_count": 37,
   "id": "bfdae165",
   "metadata": {},
   "outputs": [
    {
     "name": "stdout",
     "output_type": "stream",
     "text": [
      "Accuracy: 0.928962\n",
      "f1: 0.916356\n",
      "CM: \n",
      "[[160   0]\n",
      " [ 13  10]] \n",
      "\n",
      "              precision    recall  f1-score   support\n",
      "\n",
      "           0       0.92      1.00      0.96       160\n",
      "           1       1.00      0.43      0.61        23\n",
      "\n",
      "    accuracy                           0.93       183\n",
      "   macro avg       0.96      0.72      0.78       183\n",
      "weighted avg       0.93      0.93      0.92       183\n",
      "\n"
     ]
    }
   ],
   "source": [
    "model = knn(**best_param_dict)\n",
    "model_test_results(model, X_train, y_train, X_test, y_test)"
   ]
  },
  {
   "cell_type": "markdown",
   "id": "9535ad63",
   "metadata": {},
   "source": [
    "**PerC**"
   ]
  },
  {
   "cell_type": "code",
   "execution_count": 38,
   "id": "71c9d59d",
   "metadata": {},
   "outputs": [
    {
     "name": "stdout",
     "output_type": "stream",
     "text": [
      "Accuracy: 0.928962\n",
      "f1: 0.928283\n",
      "CM: \n",
      "[[154   6]\n",
      " [  7  16]] \n",
      "\n",
      "              precision    recall  f1-score   support\n",
      "\n",
      "           0       0.96      0.96      0.96       160\n",
      "           1       0.73      0.70      0.71        23\n",
      "\n",
      "    accuracy                           0.93       183\n",
      "   macro avg       0.84      0.83      0.84       183\n",
      "weighted avg       0.93      0.93      0.93       183\n",
      "\n"
     ]
    }
   ],
   "source": [
    "model = PerC()\n",
    "model_test_results(model, X_train, y_train, X_test, y_test)"
   ]
  },
  {
   "cell_type": "markdown",
   "id": "4cb04052",
   "metadata": {},
   "source": [
    "**DT**"
   ]
  },
  {
   "cell_type": "code",
   "execution_count": 39,
   "id": "14fb64c0",
   "metadata": {},
   "outputs": [],
   "source": [
    "best_param_dict = params_dict['dt']"
   ]
  },
  {
   "cell_type": "code",
   "execution_count": 40,
   "id": "67969391",
   "metadata": {},
   "outputs": [
    {
     "name": "stdout",
     "output_type": "stream",
     "text": [
      "Accuracy: 0.950820\n",
      "f1: 0.945511\n",
      "CM: \n",
      "[[160   0]\n",
      " [  9  14]] \n",
      "\n",
      "              precision    recall  f1-score   support\n",
      "\n",
      "           0       0.95      1.00      0.97       160\n",
      "           1       1.00      0.61      0.76        23\n",
      "\n",
      "    accuracy                           0.95       183\n",
      "   macro avg       0.97      0.80      0.86       183\n",
      "weighted avg       0.95      0.95      0.95       183\n",
      "\n"
     ]
    }
   ],
   "source": [
    "model = DecisionTreeClassifier(**best_param_dict, random_state=199)\n",
    "model_test_results(model, X_train, y_train, X_test, y_test)"
   ]
  },
  {
   "cell_type": "markdown",
   "id": "fd43bdec",
   "metadata": {},
   "source": [
    "**MLP**"
   ]
  },
  {
   "cell_type": "code",
   "execution_count": 41,
   "id": "92a3fef9",
   "metadata": {},
   "outputs": [],
   "source": [
    "best_param_dict = params_dict['mlp']"
   ]
  },
  {
   "cell_type": "code",
   "execution_count": 42,
   "id": "3583e806",
   "metadata": {},
   "outputs": [
    {
     "name": "stdout",
     "output_type": "stream",
     "text": [
      "Accuracy: 0.950820\n",
      "f1: 0.945511\n",
      "CM: \n",
      "[[160   0]\n",
      " [  9  14]] \n",
      "\n",
      "              precision    recall  f1-score   support\n",
      "\n",
      "           0       0.95      1.00      0.97       160\n",
      "           1       1.00      0.61      0.76        23\n",
      "\n",
      "    accuracy                           0.95       183\n",
      "   macro avg       0.97      0.80      0.86       183\n",
      "weighted avg       0.95      0.95      0.95       183\n",
      "\n"
     ]
    }
   ],
   "source": [
    "model = MLPClassifier(\n",
    "            **best_param_dict, \n",
    "            max_iter=2000, \n",
    "            tol=0.000001,\n",
    "            random_state=199\n",
    "        )\n",
    "model_test_results(model, X_train, y_train, X_test, y_test)"
   ]
  },
  {
   "cell_type": "markdown",
   "id": "f06c4997",
   "metadata": {},
   "source": [
    "**GNB**"
   ]
  },
  {
   "cell_type": "code",
   "execution_count": 43,
   "id": "aedcc720",
   "metadata": {},
   "outputs": [
    {
     "name": "stdout",
     "output_type": "stream",
     "text": [
      "Accuracy: 0.934426\n",
      "f1: 0.930112\n",
      "CM: \n",
      "[[157   3]\n",
      " [  9  14]] \n",
      "\n",
      "              precision    recall  f1-score   support\n",
      "\n",
      "           0       0.95      0.98      0.96       160\n",
      "           1       0.82      0.61      0.70        23\n",
      "\n",
      "    accuracy                           0.93       183\n",
      "   macro avg       0.88      0.79      0.83       183\n",
      "weighted avg       0.93      0.93      0.93       183\n",
      "\n"
     ]
    }
   ],
   "source": [
    "model = GaussianNB()\n",
    "model_test_results(model, X_train, y_train, X_test, y_test)"
   ]
  },
  {
   "cell_type": "markdown",
   "id": "dc2f7971",
   "metadata": {},
   "source": [
    "**SVM**"
   ]
  },
  {
   "cell_type": "code",
   "execution_count": 44,
   "id": "04099c55",
   "metadata": {},
   "outputs": [],
   "source": [
    "best_param_dict = params_dict['svm']"
   ]
  },
  {
   "cell_type": "code",
   "execution_count": 45,
   "id": "adf716f2",
   "metadata": {},
   "outputs": [
    {
     "name": "stdout",
     "output_type": "stream",
     "text": [
      "Accuracy: 0.956284\n",
      "f1: 0.952216\n",
      "CM: \n",
      "[[160   0]\n",
      " [  8  15]] \n",
      "\n",
      "              precision    recall  f1-score   support\n",
      "\n",
      "           0       0.95      1.00      0.98       160\n",
      "           1       1.00      0.65      0.79        23\n",
      "\n",
      "    accuracy                           0.96       183\n",
      "   macro avg       0.98      0.83      0.88       183\n",
      "weighted avg       0.96      0.96      0.95       183\n",
      "\n"
     ]
    }
   ],
   "source": [
    "model = SVC(**best_param_dict, probability=True, random_state=199)\n",
    "model_test_results(model, X_train, y_train, X_test, y_test)"
   ]
  },
  {
   "cell_type": "markdown",
   "id": "e7989607",
   "metadata": {},
   "source": [
    "**MLR**"
   ]
  },
  {
   "cell_type": "code",
   "execution_count": 46,
   "id": "02a9de5b",
   "metadata": {},
   "outputs": [],
   "source": [
    "best_param_dict = params_dict['mlr']"
   ]
  },
  {
   "cell_type": "code",
   "execution_count": 47,
   "id": "296973e9",
   "metadata": {},
   "outputs": [
    {
     "name": "stdout",
     "output_type": "stream",
     "text": [
      "Accuracy: 0.956284\n",
      "f1: 0.952216\n",
      "CM: \n",
      "[[160   0]\n",
      " [  8  15]] \n",
      "\n",
      "              precision    recall  f1-score   support\n",
      "\n",
      "           0       0.95      1.00      0.98       160\n",
      "           1       1.00      0.65      0.79        23\n",
      "\n",
      "    accuracy                           0.96       183\n",
      "   macro avg       0.98      0.83      0.88       183\n",
      "weighted avg       0.96      0.96      0.95       183\n",
      "\n"
     ]
    }
   ],
   "source": [
    "model = LogisticRegression(**best_param_dict, multi_class='multinomial', random_state=199)\n",
    "model_test_results(model, X_train, y_train, X_test, y_test)"
   ]
  },
  {
   "cell_type": "markdown",
   "id": "284fb9d7",
   "metadata": {},
   "source": [
    "**RF**"
   ]
  },
  {
   "cell_type": "code",
   "execution_count": 48,
   "id": "e1655da1",
   "metadata": {},
   "outputs": [],
   "source": [
    "best_param_dict = params_dict['rf']"
   ]
  },
  {
   "cell_type": "code",
   "execution_count": 49,
   "id": "0b646179",
   "metadata": {},
   "outputs": [
    {
     "name": "stdout",
     "output_type": "stream",
     "text": [
      "Accuracy: 0.967213\n",
      "f1: 0.965056\n",
      "CM: \n",
      "[[160   0]\n",
      " [  6  17]] \n",
      "\n",
      "              precision    recall  f1-score   support\n",
      "\n",
      "           0       0.96      1.00      0.98       160\n",
      "           1       1.00      0.74      0.85        23\n",
      "\n",
      "    accuracy                           0.97       183\n",
      "   macro avg       0.98      0.87      0.92       183\n",
      "weighted avg       0.97      0.97      0.97       183\n",
      "\n"
     ]
    }
   ],
   "source": [
    "model = RandomForestClassifier(**best_param_dict, random_state=199)\n",
    "model_test_results(model, X_train, y_train, X_test, y_test)"
   ]
  },
  {
   "cell_type": "markdown",
   "id": "749f598f",
   "metadata": {},
   "source": [
    "**XGB**"
   ]
  },
  {
   "cell_type": "code",
   "execution_count": 50,
   "id": "e8720d47",
   "metadata": {},
   "outputs": [],
   "source": [
    "best_param_dict = params_dict['xgb']"
   ]
  },
  {
   "cell_type": "code",
   "execution_count": 51,
   "id": "34a7fe41",
   "metadata": {},
   "outputs": [
    {
     "name": "stdout",
     "output_type": "stream",
     "text": [
      "Accuracy: 0.967213\n",
      "f1: 0.965056\n",
      "CM: \n",
      "[[160   0]\n",
      " [  6  17]] \n",
      "\n",
      "              precision    recall  f1-score   support\n",
      "\n",
      "           0       0.96      1.00      0.98       160\n",
      "           1       1.00      0.74      0.85        23\n",
      "\n",
      "    accuracy                           0.97       183\n",
      "   macro avg       0.98      0.87      0.92       183\n",
      "weighted avg       0.97      0.97      0.97       183\n",
      "\n"
     ]
    }
   ],
   "source": [
    "model = XGBClassifier(**best_param_dict, random_state=199)\n",
    "model_test_results(model, X_train, y_train, X_test, y_test)"
   ]
  },
  {
   "cell_type": "markdown",
   "id": "2b9fb94b",
   "metadata": {},
   "source": [
    "**Gradient Boost**"
   ]
  },
  {
   "cell_type": "code",
   "execution_count": 52,
   "id": "53a1c153",
   "metadata": {},
   "outputs": [],
   "source": [
    "best_param_dict = params_dict['gb']"
   ]
  },
  {
   "cell_type": "code",
   "execution_count": 53,
   "id": "f877b8b9",
   "metadata": {},
   "outputs": [
    {
     "name": "stdout",
     "output_type": "stream",
     "text": [
      "Accuracy: 0.890710\n",
      "f1: 0.851890\n",
      "CM: \n",
      "[[160   0]\n",
      " [ 20   3]] \n",
      "\n",
      "              precision    recall  f1-score   support\n",
      "\n",
      "           0       0.89      1.00      0.94       160\n",
      "           1       1.00      0.13      0.23        23\n",
      "\n",
      "    accuracy                           0.89       183\n",
      "   macro avg       0.94      0.57      0.59       183\n",
      "weighted avg       0.90      0.89      0.85       183\n",
      "\n"
     ]
    }
   ],
   "source": [
    "model = GradientBoostingClassifier(**best_param_dict, random_state=199)\n",
    "model_test_results(model, X_train, y_train, X_test, y_test)"
   ]
  },
  {
   "cell_type": "markdown",
   "id": "c80a984c",
   "metadata": {},
   "source": [
    "**Ada Boost**"
   ]
  },
  {
   "cell_type": "code",
   "execution_count": 54,
   "id": "cacdad5d",
   "metadata": {},
   "outputs": [],
   "source": [
    "best_param_dict = params_dict['ab']"
   ]
  },
  {
   "cell_type": "code",
   "execution_count": 55,
   "id": "23060ae6",
   "metadata": {},
   "outputs": [
    {
     "name": "stdout",
     "output_type": "stream",
     "text": [
      "Accuracy: 0.956284\n",
      "f1: 0.953408\n",
      "CM: \n",
      "[[159   1]\n",
      " [  7  16]] \n",
      "\n",
      "              precision    recall  f1-score   support\n",
      "\n",
      "           0       0.96      0.99      0.98       160\n",
      "           1       0.94      0.70      0.80        23\n",
      "\n",
      "    accuracy                           0.96       183\n",
      "   macro avg       0.95      0.84      0.89       183\n",
      "weighted avg       0.96      0.96      0.95       183\n",
      "\n"
     ]
    }
   ],
   "source": [
    "model = AdaBoostClassifier(**best_param_dict, random_state=199)\n",
    "model_test_results(model, X_train, y_train, X_test, y_test)"
   ]
  }
 ],
 "metadata": {
  "celltoolbar": "Raw Cell Format",
  "kernelspec": {
   "display_name": "Python 3 (ipykernel)",
   "language": "python",
   "name": "python3"
  },
  "language_info": {
   "codemirror_mode": {
    "name": "ipython",
    "version": 3
   },
   "file_extension": ".py",
   "mimetype": "text/x-python",
   "name": "python",
   "nbconvert_exporter": "python",
   "pygments_lexer": "ipython3",
   "version": "3.9.7"
  }
 },
 "nbformat": 4,
 "nbformat_minor": 5
}
